{
 "cells": [
  {
   "cell_type": "markdown",
   "id": "7b8ab835",
   "metadata": {},
   "source": [
    "<h1 style='text-align: center;'> Machine Learning Project 1 </h1>\n",
    "<h3 style='text-align: center;'> By Sri Das </h3>"
   ]
  },
  {
   "cell_type": "markdown",
   "id": "1acd2b71",
   "metadata": {},
   "source": [
    "<h2 style='text-align: center;'> NYC House price prediction </h2>"
   ]
  },
  {
   "cell_type": "markdown",
   "id": "8784c9bc",
   "metadata": {},
   "source": [
    "### Importing required packages"
   ]
  },
  {
   "cell_type": "code",
   "execution_count": 1,
   "id": "4284bc7a",
   "metadata": {},
   "outputs": [],
   "source": [
    "import pandas as pd\n",
    "import numpy as np\n",
    "import matplotlib.pyplot as plt\n",
    "import seaborn as sns\n",
    "from sklearn.model_selection import train_test_split\n",
    "from sklearn.preprocessing import StandardScaler\n",
    "from sklearn.linear_model import LinearRegression, Ridge, Lasso\n",
    "from sklearn.ensemble import RandomForestRegressor\n",
    "from sklearn.metrics import mean_squared_error"
   ]
  },
  {
   "cell_type": "markdown",
   "id": "21af841a",
   "metadata": {},
   "source": [
    "### Importing Data and EDA"
   ]
  },
  {
   "cell_type": "code",
   "execution_count": 2,
   "id": "831b18d2",
   "metadata": {},
   "outputs": [
    {
     "data": {
      "text/html": [
       "<div>\n",
       "<style scoped>\n",
       "    .dataframe tbody tr th:only-of-type {\n",
       "        vertical-align: middle;\n",
       "    }\n",
       "\n",
       "    .dataframe tbody tr th {\n",
       "        vertical-align: top;\n",
       "    }\n",
       "\n",
       "    .dataframe thead th {\n",
       "        text-align: right;\n",
       "    }\n",
       "</style>\n",
       "<table border=\"1\" class=\"dataframe\">\n",
       "  <thead>\n",
       "    <tr style=\"text-align: right;\">\n",
       "      <th></th>\n",
       "      <th>Unnamed: 0</th>\n",
       "      <th>BOROUGH</th>\n",
       "      <th>NEIGHBORHOOD</th>\n",
       "      <th>BUILDING CLASS CATEGORY</th>\n",
       "      <th>TAX CLASS AT PRESENT</th>\n",
       "      <th>BLOCK</th>\n",
       "      <th>LOT</th>\n",
       "      <th>EASE-MENT</th>\n",
       "      <th>BUILDING CLASS AT PRESENT</th>\n",
       "      <th>ADDRESS</th>\n",
       "      <th>...</th>\n",
       "      <th>RESIDENTIAL UNITS</th>\n",
       "      <th>COMMERCIAL UNITS</th>\n",
       "      <th>TOTAL UNITS</th>\n",
       "      <th>LAND SQUARE FEET</th>\n",
       "      <th>GROSS SQUARE FEET</th>\n",
       "      <th>YEAR BUILT</th>\n",
       "      <th>TAX CLASS AT TIME OF SALE</th>\n",
       "      <th>BUILDING CLASS AT TIME OF SALE</th>\n",
       "      <th>SALE PRICE</th>\n",
       "      <th>SALE DATE</th>\n",
       "    </tr>\n",
       "  </thead>\n",
       "  <tbody>\n",
       "    <tr>\n",
       "      <th>0</th>\n",
       "      <td>4</td>\n",
       "      <td>1</td>\n",
       "      <td>ALPHABET CITY</td>\n",
       "      <td>07 RENTALS - WALKUP APARTMENTS</td>\n",
       "      <td>2A</td>\n",
       "      <td>392</td>\n",
       "      <td>6</td>\n",
       "      <td></td>\n",
       "      <td>C2</td>\n",
       "      <td>153 AVENUE B</td>\n",
       "      <td>...</td>\n",
       "      <td>5</td>\n",
       "      <td>0</td>\n",
       "      <td>5</td>\n",
       "      <td>1633</td>\n",
       "      <td>6440</td>\n",
       "      <td>1900</td>\n",
       "      <td>2</td>\n",
       "      <td>C2</td>\n",
       "      <td>6625000</td>\n",
       "      <td>2017-07-19 00:00:00</td>\n",
       "    </tr>\n",
       "    <tr>\n",
       "      <th>1</th>\n",
       "      <td>5</td>\n",
       "      <td>1</td>\n",
       "      <td>ALPHABET CITY</td>\n",
       "      <td>07 RENTALS - WALKUP APARTMENTS</td>\n",
       "      <td>2</td>\n",
       "      <td>399</td>\n",
       "      <td>26</td>\n",
       "      <td></td>\n",
       "      <td>C7</td>\n",
       "      <td>234 EAST 4TH   STREET</td>\n",
       "      <td>...</td>\n",
       "      <td>28</td>\n",
       "      <td>3</td>\n",
       "      <td>31</td>\n",
       "      <td>4616</td>\n",
       "      <td>18690</td>\n",
       "      <td>1900</td>\n",
       "      <td>2</td>\n",
       "      <td>C7</td>\n",
       "      <td>-</td>\n",
       "      <td>2016-12-14 00:00:00</td>\n",
       "    </tr>\n",
       "    <tr>\n",
       "      <th>2</th>\n",
       "      <td>6</td>\n",
       "      <td>1</td>\n",
       "      <td>ALPHABET CITY</td>\n",
       "      <td>07 RENTALS - WALKUP APARTMENTS</td>\n",
       "      <td>2</td>\n",
       "      <td>399</td>\n",
       "      <td>39</td>\n",
       "      <td></td>\n",
       "      <td>C7</td>\n",
       "      <td>197 EAST 3RD   STREET</td>\n",
       "      <td>...</td>\n",
       "      <td>16</td>\n",
       "      <td>1</td>\n",
       "      <td>17</td>\n",
       "      <td>2212</td>\n",
       "      <td>7803</td>\n",
       "      <td>1900</td>\n",
       "      <td>2</td>\n",
       "      <td>C7</td>\n",
       "      <td>-</td>\n",
       "      <td>2016-12-09 00:00:00</td>\n",
       "    </tr>\n",
       "    <tr>\n",
       "      <th>3</th>\n",
       "      <td>7</td>\n",
       "      <td>1</td>\n",
       "      <td>ALPHABET CITY</td>\n",
       "      <td>07 RENTALS - WALKUP APARTMENTS</td>\n",
       "      <td>2B</td>\n",
       "      <td>402</td>\n",
       "      <td>21</td>\n",
       "      <td></td>\n",
       "      <td>C4</td>\n",
       "      <td>154 EAST 7TH STREET</td>\n",
       "      <td>...</td>\n",
       "      <td>10</td>\n",
       "      <td>0</td>\n",
       "      <td>10</td>\n",
       "      <td>2272</td>\n",
       "      <td>6794</td>\n",
       "      <td>1913</td>\n",
       "      <td>2</td>\n",
       "      <td>C4</td>\n",
       "      <td>3936272</td>\n",
       "      <td>2016-09-23 00:00:00</td>\n",
       "    </tr>\n",
       "    <tr>\n",
       "      <th>4</th>\n",
       "      <td>8</td>\n",
       "      <td>1</td>\n",
       "      <td>ALPHABET CITY</td>\n",
       "      <td>07 RENTALS - WALKUP APARTMENTS</td>\n",
       "      <td>2A</td>\n",
       "      <td>404</td>\n",
       "      <td>55</td>\n",
       "      <td></td>\n",
       "      <td>C2</td>\n",
       "      <td>301 EAST 10TH   STREET</td>\n",
       "      <td>...</td>\n",
       "      <td>6</td>\n",
       "      <td>0</td>\n",
       "      <td>6</td>\n",
       "      <td>2369</td>\n",
       "      <td>4615</td>\n",
       "      <td>1900</td>\n",
       "      <td>2</td>\n",
       "      <td>C2</td>\n",
       "      <td>8000000</td>\n",
       "      <td>2016-11-17 00:00:00</td>\n",
       "    </tr>\n",
       "  </tbody>\n",
       "</table>\n",
       "<p>5 rows × 22 columns</p>\n",
       "</div>"
      ],
      "text/plain": [
       "   Unnamed: 0  BOROUGH   NEIGHBORHOOD  \\\n",
       "0           4        1  ALPHABET CITY   \n",
       "1           5        1  ALPHABET CITY   \n",
       "2           6        1  ALPHABET CITY   \n",
       "3           7        1  ALPHABET CITY   \n",
       "4           8        1  ALPHABET CITY   \n",
       "\n",
       "                       BUILDING CLASS CATEGORY TAX CLASS AT PRESENT  BLOCK  \\\n",
       "0  07 RENTALS - WALKUP APARTMENTS                                2A    392   \n",
       "1  07 RENTALS - WALKUP APARTMENTS                                 2    399   \n",
       "2  07 RENTALS - WALKUP APARTMENTS                                 2    399   \n",
       "3  07 RENTALS - WALKUP APARTMENTS                                2B    402   \n",
       "4  07 RENTALS - WALKUP APARTMENTS                                2A    404   \n",
       "\n",
       "   LOT EASE-MENT BUILDING CLASS AT PRESENT                 ADDRESS  ...  \\\n",
       "0    6                                  C2            153 AVENUE B  ...   \n",
       "1   26                                  C7   234 EAST 4TH   STREET  ...   \n",
       "2   39                                  C7   197 EAST 3RD   STREET  ...   \n",
       "3   21                                  C4     154 EAST 7TH STREET  ...   \n",
       "4   55                                  C2  301 EAST 10TH   STREET  ...   \n",
       "\n",
       "  RESIDENTIAL UNITS  COMMERCIAL UNITS  TOTAL UNITS  LAND SQUARE FEET  \\\n",
       "0                 5                 0            5              1633   \n",
       "1                28                 3           31              4616   \n",
       "2                16                 1           17              2212   \n",
       "3                10                 0           10              2272   \n",
       "4                 6                 0            6              2369   \n",
       "\n",
       "   GROSS SQUARE FEET YEAR BUILT TAX CLASS AT TIME OF SALE  \\\n",
       "0               6440       1900                         2   \n",
       "1              18690       1900                         2   \n",
       "2               7803       1900                         2   \n",
       "3               6794       1913                         2   \n",
       "4               4615       1900                         2   \n",
       "\n",
       "   BUILDING CLASS AT TIME OF SALE  SALE PRICE            SALE DATE  \n",
       "0                              C2     6625000  2017-07-19 00:00:00  \n",
       "1                              C7         -    2016-12-14 00:00:00  \n",
       "2                              C7         -    2016-12-09 00:00:00  \n",
       "3                              C4     3936272  2016-09-23 00:00:00  \n",
       "4                              C2     8000000  2016-11-17 00:00:00  \n",
       "\n",
       "[5 rows x 22 columns]"
      ]
     },
     "execution_count": 2,
     "metadata": {},
     "output_type": "execute_result"
    }
   ],
   "source": [
    "#Loading the data\n",
    "data = pd.read_csv('nyc-rolling-sales.csv')\n",
    "data.head()"
   ]
  },
  {
   "cell_type": "code",
   "execution_count": 3,
   "id": "ae1a332e",
   "metadata": {},
   "outputs": [
    {
     "data": {
      "text/plain": [
       "(84548, 22)"
      ]
     },
     "execution_count": 3,
     "metadata": {},
     "output_type": "execute_result"
    }
   ],
   "source": [
    "data.shape"
   ]
  },
  {
   "cell_type": "code",
   "execution_count": 4,
   "id": "54d79727",
   "metadata": {},
   "outputs": [
    {
     "data": {
      "text/html": [
       "<div>\n",
       "<style scoped>\n",
       "    .dataframe tbody tr th:only-of-type {\n",
       "        vertical-align: middle;\n",
       "    }\n",
       "\n",
       "    .dataframe tbody tr th {\n",
       "        vertical-align: top;\n",
       "    }\n",
       "\n",
       "    .dataframe thead th {\n",
       "        text-align: right;\n",
       "    }\n",
       "</style>\n",
       "<table border=\"1\" class=\"dataframe\">\n",
       "  <thead>\n",
       "    <tr style=\"text-align: right;\">\n",
       "      <th></th>\n",
       "      <th>Unnamed: 0</th>\n",
       "      <th>BOROUGH</th>\n",
       "      <th>BLOCK</th>\n",
       "      <th>LOT</th>\n",
       "      <th>ZIP CODE</th>\n",
       "      <th>RESIDENTIAL UNITS</th>\n",
       "      <th>COMMERCIAL UNITS</th>\n",
       "      <th>TOTAL UNITS</th>\n",
       "      <th>YEAR BUILT</th>\n",
       "      <th>TAX CLASS AT TIME OF SALE</th>\n",
       "    </tr>\n",
       "  </thead>\n",
       "  <tbody>\n",
       "    <tr>\n",
       "      <th>count</th>\n",
       "      <td>84548.000000</td>\n",
       "      <td>84548.000000</td>\n",
       "      <td>84548.000000</td>\n",
       "      <td>84548.000000</td>\n",
       "      <td>84548.000000</td>\n",
       "      <td>84548.000000</td>\n",
       "      <td>84548.000000</td>\n",
       "      <td>84548.000000</td>\n",
       "      <td>84548.000000</td>\n",
       "      <td>84548.000000</td>\n",
       "    </tr>\n",
       "    <tr>\n",
       "      <th>mean</th>\n",
       "      <td>10344.359878</td>\n",
       "      <td>2.998758</td>\n",
       "      <td>4237.218976</td>\n",
       "      <td>376.224015</td>\n",
       "      <td>10731.991614</td>\n",
       "      <td>2.025264</td>\n",
       "      <td>0.193559</td>\n",
       "      <td>2.249184</td>\n",
       "      <td>1789.322976</td>\n",
       "      <td>1.657485</td>\n",
       "    </tr>\n",
       "    <tr>\n",
       "      <th>std</th>\n",
       "      <td>7151.779436</td>\n",
       "      <td>1.289790</td>\n",
       "      <td>3568.263407</td>\n",
       "      <td>658.136814</td>\n",
       "      <td>1290.879147</td>\n",
       "      <td>16.721037</td>\n",
       "      <td>8.713183</td>\n",
       "      <td>18.972584</td>\n",
       "      <td>537.344993</td>\n",
       "      <td>0.819341</td>\n",
       "    </tr>\n",
       "    <tr>\n",
       "      <th>min</th>\n",
       "      <td>4.000000</td>\n",
       "      <td>1.000000</td>\n",
       "      <td>1.000000</td>\n",
       "      <td>1.000000</td>\n",
       "      <td>0.000000</td>\n",
       "      <td>0.000000</td>\n",
       "      <td>0.000000</td>\n",
       "      <td>0.000000</td>\n",
       "      <td>0.000000</td>\n",
       "      <td>1.000000</td>\n",
       "    </tr>\n",
       "    <tr>\n",
       "      <th>25%</th>\n",
       "      <td>4231.000000</td>\n",
       "      <td>2.000000</td>\n",
       "      <td>1322.750000</td>\n",
       "      <td>22.000000</td>\n",
       "      <td>10305.000000</td>\n",
       "      <td>0.000000</td>\n",
       "      <td>0.000000</td>\n",
       "      <td>1.000000</td>\n",
       "      <td>1920.000000</td>\n",
       "      <td>1.000000</td>\n",
       "    </tr>\n",
       "    <tr>\n",
       "      <th>50%</th>\n",
       "      <td>8942.000000</td>\n",
       "      <td>3.000000</td>\n",
       "      <td>3311.000000</td>\n",
       "      <td>50.000000</td>\n",
       "      <td>11209.000000</td>\n",
       "      <td>1.000000</td>\n",
       "      <td>0.000000</td>\n",
       "      <td>1.000000</td>\n",
       "      <td>1940.000000</td>\n",
       "      <td>2.000000</td>\n",
       "    </tr>\n",
       "    <tr>\n",
       "      <th>75%</th>\n",
       "      <td>15987.250000</td>\n",
       "      <td>4.000000</td>\n",
       "      <td>6281.000000</td>\n",
       "      <td>1001.000000</td>\n",
       "      <td>11357.000000</td>\n",
       "      <td>2.000000</td>\n",
       "      <td>0.000000</td>\n",
       "      <td>2.000000</td>\n",
       "      <td>1965.000000</td>\n",
       "      <td>2.000000</td>\n",
       "    </tr>\n",
       "    <tr>\n",
       "      <th>max</th>\n",
       "      <td>26739.000000</td>\n",
       "      <td>5.000000</td>\n",
       "      <td>16322.000000</td>\n",
       "      <td>9106.000000</td>\n",
       "      <td>11694.000000</td>\n",
       "      <td>1844.000000</td>\n",
       "      <td>2261.000000</td>\n",
       "      <td>2261.000000</td>\n",
       "      <td>2017.000000</td>\n",
       "      <td>4.000000</td>\n",
       "    </tr>\n",
       "  </tbody>\n",
       "</table>\n",
       "</div>"
      ],
      "text/plain": [
       "         Unnamed: 0       BOROUGH         BLOCK           LOT      ZIP CODE  \\\n",
       "count  84548.000000  84548.000000  84548.000000  84548.000000  84548.000000   \n",
       "mean   10344.359878      2.998758   4237.218976    376.224015  10731.991614   \n",
       "std     7151.779436      1.289790   3568.263407    658.136814   1290.879147   \n",
       "min        4.000000      1.000000      1.000000      1.000000      0.000000   \n",
       "25%     4231.000000      2.000000   1322.750000     22.000000  10305.000000   \n",
       "50%     8942.000000      3.000000   3311.000000     50.000000  11209.000000   \n",
       "75%    15987.250000      4.000000   6281.000000   1001.000000  11357.000000   \n",
       "max    26739.000000      5.000000  16322.000000   9106.000000  11694.000000   \n",
       "\n",
       "       RESIDENTIAL UNITS  COMMERCIAL UNITS   TOTAL UNITS    YEAR BUILT  \\\n",
       "count       84548.000000      84548.000000  84548.000000  84548.000000   \n",
       "mean            2.025264          0.193559      2.249184   1789.322976   \n",
       "std            16.721037          8.713183     18.972584    537.344993   \n",
       "min             0.000000          0.000000      0.000000      0.000000   \n",
       "25%             0.000000          0.000000      1.000000   1920.000000   \n",
       "50%             1.000000          0.000000      1.000000   1940.000000   \n",
       "75%             2.000000          0.000000      2.000000   1965.000000   \n",
       "max          1844.000000       2261.000000   2261.000000   2017.000000   \n",
       "\n",
       "       TAX CLASS AT TIME OF SALE  \n",
       "count               84548.000000  \n",
       "mean                    1.657485  \n",
       "std                     0.819341  \n",
       "min                     1.000000  \n",
       "25%                     1.000000  \n",
       "50%                     2.000000  \n",
       "75%                     2.000000  \n",
       "max                     4.000000  "
      ]
     },
     "execution_count": 4,
     "metadata": {},
     "output_type": "execute_result"
    }
   ],
   "source": [
    "data.describe()"
   ]
  },
  {
   "cell_type": "markdown",
   "id": "19d40484",
   "metadata": {},
   "source": [
    "The above result shows that some features such as 'SALE PRICE', 'LAND SQUARE FEET' and 'GROSS SQUARE FEET' are missing and also the min value for 'ZIP CODE' and 'YEAR BUILT' are zeros, which in these cases mean missing values. Let's look at the data types of all the variables."
   ]
  },
  {
   "cell_type": "code",
   "execution_count": 5,
   "id": "02a77d1f",
   "metadata": {},
   "outputs": [
    {
     "data": {
      "text/plain": [
       "Unnamed: 0                         int64\n",
       "BOROUGH                            int64\n",
       "NEIGHBORHOOD                      object\n",
       "BUILDING CLASS CATEGORY           object\n",
       "TAX CLASS AT PRESENT              object\n",
       "BLOCK                              int64\n",
       "LOT                                int64\n",
       "EASE-MENT                         object\n",
       "BUILDING CLASS AT PRESENT         object\n",
       "ADDRESS                           object\n",
       "APARTMENT NUMBER                  object\n",
       "ZIP CODE                           int64\n",
       "RESIDENTIAL UNITS                  int64\n",
       "COMMERCIAL UNITS                   int64\n",
       "TOTAL UNITS                        int64\n",
       "LAND SQUARE FEET                  object\n",
       "GROSS SQUARE FEET                 object\n",
       "YEAR BUILT                         int64\n",
       "TAX CLASS AT TIME OF SALE          int64\n",
       "BUILDING CLASS AT TIME OF SALE    object\n",
       "SALE PRICE                        object\n",
       "SALE DATE                         object\n",
       "dtype: object"
      ]
     },
     "execution_count": 5,
     "metadata": {},
     "output_type": "execute_result"
    }
   ],
   "source": [
    "data.dtypes"
   ]
  },
  {
   "cell_type": "markdown",
   "id": "0b5db905",
   "metadata": {},
   "source": [
    "As suspected, variables 'SALE PRICE', 'LAND SQUARE FEET' and 'GROSS SQUARE FEET' are not listed as numerical data type. Whereas in the data, these variables have numerical values. Before proceeding further, the data types for these variables need to be changed. "
   ]
  },
  {
   "cell_type": "code",
   "execution_count": 6,
   "id": "c673e0cf",
   "metadata": {},
   "outputs": [
    {
     "data": {
      "text/plain": [
       "Unnamed: 0                        0\n",
       "BOROUGH                           0\n",
       "NEIGHBORHOOD                      0\n",
       "BUILDING CLASS CATEGORY           0\n",
       "TAX CLASS AT PRESENT              0\n",
       "BLOCK                             0\n",
       "LOT                               0\n",
       "EASE-MENT                         0\n",
       "BUILDING CLASS AT PRESENT         0\n",
       "ADDRESS                           0\n",
       "APARTMENT NUMBER                  0\n",
       "ZIP CODE                          0\n",
       "RESIDENTIAL UNITS                 0\n",
       "COMMERCIAL UNITS                  0\n",
       "TOTAL UNITS                       0\n",
       "LAND SQUARE FEET                  0\n",
       "GROSS SQUARE FEET                 0\n",
       "YEAR BUILT                        0\n",
       "TAX CLASS AT TIME OF SALE         0\n",
       "BUILDING CLASS AT TIME OF SALE    0\n",
       "SALE PRICE                        0\n",
       "SALE DATE                         0\n",
       "dtype: int64"
      ]
     },
     "execution_count": 6,
     "metadata": {},
     "output_type": "execute_result"
    }
   ],
   "source": [
    "# Checking for null values\n",
    "data.isnull().sum()"
   ]
  },
  {
   "cell_type": "markdown",
   "id": "0dd84892",
   "metadata": {},
   "source": [
    "There are no null values in the data but as noted before there are missing values in the data (as zeros) so the data needs to be checked for missing values. Before that let's change the data types of the three variables."
   ]
  },
  {
   "cell_type": "code",
   "execution_count": 7,
   "id": "752645e9",
   "metadata": {},
   "outputs": [],
   "source": [
    "# Function to change the data type. It takes a list of variables and the data type to which they have to be changed.\n",
    "# It captures any errors in the process and prints the error message\n",
    "\n",
    "def chng_dtype(feature_list, dtype): \n",
    "    for i in feature_list:\n",
    "        try:\n",
    "            data[i] = data[i].astype(dtype)\n",
    "        except ValueError as ve:\n",
    "            err = str(ve)\n",
    "            char = err.partition(':')[2]\n",
    "            print ('{} cannot be converted to int as it has characters {}'.format(i,char)) "
   ]
  },
  {
   "cell_type": "code",
   "execution_count": 8,
   "id": "9b32572e",
   "metadata": {},
   "outputs": [],
   "source": [
    "#list of variables that need a change of data type\n",
    "fetrs = ['LAND SQUARE FEET', 'GROSS SQUARE FEET', 'SALE PRICE']"
   ]
  },
  {
   "cell_type": "code",
   "execution_count": 9,
   "id": "52d075f4",
   "metadata": {},
   "outputs": [
    {
     "name": "stdout",
     "output_type": "stream",
     "text": [
      "LAND SQUARE FEET cannot be converted to int as it has characters  ' -  '\n",
      "GROSS SQUARE FEET cannot be converted to int as it has characters  ' -  '\n",
      "SALE PRICE cannot be converted to int as it has characters  ' -  '\n"
     ]
    }
   ],
   "source": [
    "#Using the chng_dtype function on the above list\n",
    "chng_dtype(fetrs, int)"
   ]
  },
  {
   "cell_type": "markdown",
   "id": "6e0af8b4",
   "metadata": {},
   "source": [
    "All the three variables have missing values in the form of ' - '. "
   ]
  },
  {
   "cell_type": "code",
   "execution_count": 10,
   "id": "07f2981b",
   "metadata": {},
   "outputs": [],
   "source": [
    "#Replacing these missing values with NaN\n",
    "err =  ' -  '\n",
    "for i in fetrs: \n",
    "    ser = data[i].replace(err, np.nan)\n",
    "    data[i] = pd.to_numeric(ser)"
   ]
  },
  {
   "cell_type": "code",
   "execution_count": 11,
   "id": "81717db3",
   "metadata": {
    "scrolled": true
   },
   "outputs": [
    {
     "data": {
      "text/plain": [
       "Unnamed: 0                            0\n",
       "BOROUGH                               0\n",
       "NEIGHBORHOOD                          0\n",
       "BUILDING CLASS CATEGORY               0\n",
       "TAX CLASS AT PRESENT                  0\n",
       "BLOCK                                 0\n",
       "LOT                                   0\n",
       "EASE-MENT                             0\n",
       "BUILDING CLASS AT PRESENT             0\n",
       "ADDRESS                               0\n",
       "APARTMENT NUMBER                      0\n",
       "ZIP CODE                              0\n",
       "RESIDENTIAL UNITS                     0\n",
       "COMMERCIAL UNITS                      0\n",
       "TOTAL UNITS                           0\n",
       "LAND SQUARE FEET                  26252\n",
       "GROSS SQUARE FEET                 27612\n",
       "YEAR BUILT                            0\n",
       "TAX CLASS AT TIME OF SALE             0\n",
       "BUILDING CLASS AT TIME OF SALE        0\n",
       "SALE PRICE                        14561\n",
       "SALE DATE                             0\n",
       "dtype: int64"
      ]
     },
     "execution_count": 11,
     "metadata": {},
     "output_type": "execute_result"
    }
   ],
   "source": [
    "data.isnull().sum()"
   ]
  },
  {
   "cell_type": "code",
   "execution_count": 12,
   "id": "c48fa232",
   "metadata": {},
   "outputs": [],
   "source": [
    "# Dropping the rows with null values \n",
    "\n",
    "data.dropna(axis=0, inplace=True)"
   ]
  },
  {
   "cell_type": "markdown",
   "id": "3c472e8f",
   "metadata": {},
   "source": [
    "### Data Visualization"
   ]
  },
  {
   "cell_type": "markdown",
   "id": "60e8e20e",
   "metadata": {},
   "source": [
    "Numerical Variables"
   ]
  },
  {
   "cell_type": "code",
   "execution_count": 13,
   "id": "7a511d83",
   "metadata": {},
   "outputs": [],
   "source": [
    "# Extracting the numerical features to plot against the target variable\n",
    "num = data.dtypes == 'int'\n",
    "flt = data.dtypes == 'float'\n",
    "num_ftrs = list(num[num].index)\n",
    "num_ftrs.extend(list(flt[flt].index))\n",
    "num_ftrs.remove('SALE PRICE')"
   ]
  },
  {
   "cell_type": "code",
   "execution_count": 14,
   "id": "1475d3ce",
   "metadata": {},
   "outputs": [],
   "source": [
    "plot_dep = data.drop('SALE PRICE', axis=1)\n",
    "plot_indep = data['SALE PRICE']"
   ]
  },
  {
   "cell_type": "code",
   "execution_count": 15,
   "id": "ef8f0de9",
   "metadata": {},
   "outputs": [
    {
     "data": {
      "image/png": "[encoded data removed]",
      "text/plain": [
       "<Figure size 1008x1152 with 12 Axes>"
      ]
     },
     "metadata": {
      "needs_background": "light"
     },
     "output_type": "display_data"
    }
   ],
   "source": [
    "a = 4  # number of rows\n",
    "b = 4  # number of columns\n",
    "c = 1  # initialize plot counter\n",
    "\n",
    "fig = plt.figure(figsize = (14, 16))\n",
    "\n",
    "for i in num_ftrs : \n",
    "    plt.subplot(a,b,c)\n",
    "    plt.scatter(plot_dep[i], plot_indep)\n",
    "    plt.xlabel(i)\n",
    "    plt.ylabel('Sale price')\n",
    "    c = c +1 \n",
    "fig.tight_layout()\n",
    "plt.show()"
   ]
  },
  {
   "cell_type": "markdown",
   "id": "bbdc95c3",
   "metadata": {},
   "source": [
    "From the above plots, it can be seen that there a few outliers in the target variable (over 0.5e9). There are also missing values (0) in 'ZIP CODE', 'YEAT BULT' and 'SALE PRICE'. The target variable remains independent (flat) w.r.t 'Unnamed:0', 'BLOCK' and 'LOT'. Also it can be seen that although listed as numerical, 'BOROUGH', 'ZIP CODE',  and 'TAX CLASS AT TIME OF SALE' are categorical by nature. "
   ]
  },
  {
   "cell_type": "code",
   "execution_count": 16,
   "id": "fc96cd10",
   "metadata": {
    "scrolled": true
   },
   "outputs": [],
   "source": [
    "# Dropping columns that are not relevant\n",
    "data.drop(columns=['Unnamed: 0', 'BLOCK', 'LOT'], axis=1, inplace=True)"
   ]
  },
  {
   "cell_type": "code",
   "execution_count": 17,
   "id": "2517e4e8",
   "metadata": {},
   "outputs": [],
   "source": [
    "# Dropping rows with missing values of zeros\n",
    "data = data[data['YEAR BUILT'] != 0]\n",
    "data = data[data['ZIP CODE'] != 0]\n",
    "data = data[data['SALE PRICE'] != 0]"
   ]
  },
  {
   "cell_type": "markdown",
   "id": "476097d2",
   "metadata": {},
   "source": [
    "Categorical Variables"
   ]
  },
  {
   "cell_type": "code",
   "execution_count": 18,
   "id": "6bc0ce18",
   "metadata": {},
   "outputs": [],
   "source": [
    "# Converting 'BOROUGH' and 'TAX CLASS AT TIME OF SALE' to categorical \n",
    "data['BOROUGH'] = data['BOROUGH'].astype(str)\n",
    "data['TAX CLASS AT TIME OF SALE'] = data['TAX CLASS AT TIME OF SALE'].astype(str)"
   ]
  },
  {
   "cell_type": "code",
   "execution_count": 19,
   "id": "4a69fc11",
   "metadata": {},
   "outputs": [
    {
     "data": {
      "text/plain": [
       "['BOROUGH',\n",
       " 'NEIGHBORHOOD',\n",
       " 'BUILDING CLASS CATEGORY',\n",
       " 'TAX CLASS AT PRESENT',\n",
       " 'EASE-MENT',\n",
       " 'BUILDING CLASS AT PRESENT',\n",
       " 'ADDRESS',\n",
       " 'APARTMENT NUMBER',\n",
       " 'TAX CLASS AT TIME OF SALE',\n",
       " 'BUILDING CLASS AT TIME OF SALE',\n",
       " 'SALE DATE']"
      ]
     },
     "execution_count": 19,
     "metadata": {},
     "output_type": "execute_result"
    }
   ],
   "source": [
    "obj = data.dtypes == 'object'\n",
    "cat_ftrs = list(obj[obj].index)\n",
    "cat_ftrs"
   ]
  },
  {
   "cell_type": "code",
   "execution_count": 20,
   "id": "02dffc6c",
   "metadata": {},
   "outputs": [
    {
     "name": "stdout",
     "output_type": "stream",
     "text": [
      "For feature BOROUGH, most frequent value is \"3\"\n",
      "For feature NEIGHBORHOOD, most frequent value is \"BEDFORD STUYVESANT\"\n",
      "For feature BUILDING CLASS CATEGORY, most frequent value is \"01 ONE FAMILY DWELLINGS                    \"\n",
      "For feature TAX CLASS AT PRESENT, most frequent value is \"1\"\n",
      "For feature EASE-MENT, most frequent value is \" \"\n",
      "For feature BUILDING CLASS AT PRESENT, most frequent value is \"A1\"\n",
      "For feature ADDRESS, most frequent value is \"429 KENT AVENUE\"\n",
      "For feature APARTMENT NUMBER, most frequent value is \" \"\n",
      "For feature TAX CLASS AT TIME OF SALE, most frequent value is \"1\"\n",
      "For feature BUILDING CLASS AT TIME OF SALE, most frequent value is \"A1\"\n",
      "For feature SALE DATE, most frequent value is \"2017-04-28 00:00:00\"\n"
     ]
    }
   ],
   "source": [
    "#Checking for most frequent categories\n",
    "for i in cat_ftrs:\n",
    "    print('For feature {}, most frequent value is \"{}\"'.format(i, data[i].value_counts().idxmax()))"
   ]
  },
  {
   "cell_type": "code",
   "execution_count": 21,
   "id": "ac33bf00",
   "metadata": {},
   "outputs": [
    {
     "data": {
      "text/plain": [
       "     36172\n",
       "Name: EASE-MENT, dtype: int64"
      ]
     },
     "execution_count": 21,
     "metadata": {},
     "output_type": "execute_result"
    }
   ],
   "source": [
    "data['EASE-MENT'].value_counts()"
   ]
  },
  {
   "cell_type": "code",
   "execution_count": 22,
   "id": "8bf60034",
   "metadata": {},
   "outputs": [],
   "source": [
    "# Deleting 'EASE_MENT' colums as it is empty \n",
    "\n",
    "data.drop(columns='EASE-MENT', inplace=True)\n",
    "cat_ftrs.remove('EASE-MENT')"
   ]
  },
  {
   "cell_type": "code",
   "execution_count": 23,
   "id": "8a1a650f",
   "metadata": {},
   "outputs": [
    {
     "name": "stdout",
     "output_type": "stream",
     "text": [
      "For feature BOROUGH :\n",
      "Number of unique values : 5 \n",
      "Number of rows with blanks: 0 \n",
      "\n",
      "For feature NEIGHBORHOOD :\n",
      "Number of unique values : 250 \n",
      "Number of rows with blanks: 0 \n",
      "\n",
      "For feature BUILDING CLASS CATEGORY :\n",
      "Number of unique values : 45 \n",
      "Number of rows with blanks: 0 \n",
      "\n",
      "For feature TAX CLASS AT PRESENT :\n",
      "Number of unique values : 9 \n",
      "Number of rows with blanks: 0 \n",
      "\n",
      "For feature BUILDING CLASS AT PRESENT :\n",
      "Number of unique values : 147 \n",
      "Number of rows with blanks: 0 \n",
      "\n",
      "For feature ADDRESS :\n",
      "Number of unique values : 33100 \n",
      "Number of rows with blanks: 0 \n",
      "\n",
      "For feature APARTMENT NUMBER :\n",
      "Number of unique values : 1043 \n",
      "Number of rows with blanks: 32464 \n",
      "\n",
      "For feature TAX CLASS AT TIME OF SALE :\n",
      "Number of unique values : 3 \n",
      "Number of rows with blanks: 0 \n",
      "\n",
      "For feature BUILDING CLASS AT TIME OF SALE :\n",
      "Number of unique values : 148 \n",
      "Number of rows with blanks: 0 \n",
      "\n",
      "For feature SALE DATE :\n",
      "Number of unique values : 340 \n",
      "Number of rows with blanks: 0 \n",
      "\n"
     ]
    }
   ],
   "source": [
    "# Value counts of each category\n",
    "for i in cat_ftrs :\n",
    "    vals = len(data[i].value_counts())\n",
    "    blnks = len(data[data[i] == ' '])\n",
    "    print('For feature {} :'. format(i))\n",
    "    print('Number of unique values : {} \\nNumber of rows with blanks: {} \\n'.format(vals, blnks))"
   ]
  },
  {
   "cell_type": "markdown",
   "id": "0a62aa4f",
   "metadata": {},
   "source": [
    "Given that there are a lot of missing values for Apartment number variable and high number of unique values of Address, they cannot be used in further analysis. These two columns can be dropped from the data"
   ]
  },
  {
   "cell_type": "code",
   "execution_count": 24,
   "id": "bb86b54c",
   "metadata": {},
   "outputs": [],
   "source": [
    "# Dropping 'ADDRESS' and 'APARTMENT NUMBER' variables \n",
    "\n",
    "data.drop(columns=['ADDRESS', 'APARTMENT NUMBER'], axis=1, inplace=True)"
   ]
  },
  {
   "cell_type": "markdown",
   "id": "1bce7ef2",
   "metadata": {},
   "source": [
    "Plotting Categorical data"
   ]
  },
  {
   "cell_type": "code",
   "execution_count": 25,
   "id": "24ef5cf7",
   "metadata": {
    "scrolled": true
   },
   "outputs": [
    {
     "data": {
      "image/png": "[encoded data removed]",
      "text/plain": [
       "<Figure size 504x360 with 1 Axes>"
      ]
     },
     "metadata": {
      "needs_background": "light"
     },
     "output_type": "display_data"
    }
   ],
   "source": [
    "plt.figure(figsize=(7,5))\n",
    "sns.countplot(x = 'BOROUGH',\n",
    "            data = data)\n",
    "plt.title('BOROUGH', fontsize=15);"
   ]
  },
  {
   "cell_type": "code",
   "execution_count": 26,
   "id": "806e76b7",
   "metadata": {},
   "outputs": [
    {
     "data": {
      "image/png": "[encoded data removed]",
      "text/plain": [
       "<Figure size 504x360 with 1 Axes>"
      ]
     },
     "metadata": {
      "needs_background": "light"
     },
     "output_type": "display_data"
    }
   ],
   "source": [
    "plt.figure(figsize=(7,5))\n",
    "sns.countplot(x = 'TAX CLASS AT TIME OF SALE',\n",
    "            data = data)\n",
    "plt.title('TAX CLASS AT TIME OF SALE', fontsize=15);"
   ]
  },
  {
   "cell_type": "code",
   "execution_count": 27,
   "id": "181b3a5b",
   "metadata": {},
   "outputs": [
    {
     "data": {
      "image/png": "[encoded data removed]",
      "text/plain": [
       "<Figure size 504x360 with 1 Axes>"
      ]
     },
     "metadata": {
      "needs_background": "light"
     },
     "output_type": "display_data"
    }
   ],
   "source": [
    "plt.figure(figsize=(7,5))\n",
    "sns.countplot(x = 'BUILDING CLASS CATEGORY',\n",
    "            data = data)\n",
    "plt.title('BUILDING CLASS CATEGORY', fontsize=15);"
   ]
  },
  {
   "cell_type": "markdown",
   "id": "6cbfe1c5",
   "metadata": {},
   "source": [
    "The bulk of the house sales happened in few building categories. Lets look at some numbers to confirm this."
   ]
  },
  {
   "cell_type": "code",
   "execution_count": 28,
   "id": "b204d0bd",
   "metadata": {},
   "outputs": [
    {
     "data": {
      "text/plain": [
       "01 ONE FAMILY DWELLINGS                         12938\n",
       "02 TWO FAMILY DWELLINGS                         10100\n",
       "10 COOPS - ELEVATOR APARTMENTS                   2866\n",
       "03 THREE FAMILY DWELLINGS                        2411\n",
       "13 CONDOS - ELEVATOR APARTMENTS                  1852\n",
       "07 RENTALS - WALKUP APARTMENTS                   1802\n",
       "15 CONDOS - 2-10 UNIT RESIDENTIAL                 666\n",
       "09 COOPS - WALKUP APARTMENTS                      556\n",
       "22 STORE BUILDINGS                                489\n",
       "04 TAX CLASS 1 CONDOS                             382\n",
       "14 RENTALS - 4-10 UNIT                            336\n",
       "12 CONDOS - WALKUP APARTMENTS                     247\n",
       "21 OFFICE BUILDINGS                               227\n",
       "08 RENTALS - ELEVATOR APARTMENTS                  207\n",
       "29 COMMERCIAL GARAGES                             179\n",
       "30 WAREHOUSES                                     168\n",
       "44 CONDO PARKING                                  143\n",
       "27 FACTORIES                                      109\n",
       "26 OTHER HOTELS                                    97\n",
       "37 RELIGIOUS FACILITIES                            64\n",
       "17 CONDO COOPS                                     30\n",
       "32 HOSPITAL AND HEALTH FACILITIES                  29\n",
       "33 EDUCATIONAL FACILITIES                          28\n",
       "06 TAX CLASS 1 - OTHER                             27\n",
       "05 TAX CLASS 1 VACANT LAND                         25\n",
       "23 LOFT BUILDINGS                                  22\n",
       "46 CONDO STORE BUILDINGS                           20\n",
       "47 CONDO NON-BUSINESS STORAGE                      18\n",
       "35 INDOOR PUBLIC AND CULTURAL FACILITIES           17\n",
       "38 ASYLUMS AND HOMES                               16\n",
       "43 CONDO OFFICE BUILDINGS                          16\n",
       "11A CONDO-RENTALS                                  13\n",
       "41 TAX CLASS 4 - OTHER                             13\n",
       "16 CONDOS - 2-10 UNIT WITH COMMERCIAL UNIT         13\n",
       "31 COMMERCIAL VACANT LAND                           9\n",
       "49 CONDO WAREHOUSES/FACTORY/INDUS                   9\n",
       "25 LUXURY HOTELS                                    8\n",
       "34 THEATRES                                         5\n",
       "48 CONDO TERRACES/GARDENS/CABANAS                   4\n",
       "28 COMMERCIAL CONDOS                                3\n",
       "40 SELECTED GOVERNMENTAL FACILITIES                 2\n",
       "42 CONDO CULTURAL/MEDICAL/EDUCATIONAL/ETC           2\n",
       "45 CONDO HOTELS                                     2\n",
       "36 OUTDOOR RECREATIONAL FACILITIES                  1\n",
       "11 SPECIAL CONDO BILLING LOTS                       1\n",
       "Name: BUILDING CLASS CATEGORY, dtype: int64"
      ]
     },
     "execution_count": 28,
     "metadata": {},
     "output_type": "execute_result"
    }
   ],
   "source": [
    "data['BUILDING CLASS CATEGORY'].value_counts()"
   ]
  },
  {
   "cell_type": "code",
   "execution_count": 29,
   "id": "c1a9e03e",
   "metadata": {},
   "outputs": [
    {
     "name": "stdout",
     "output_type": "stream",
     "text": [
      "Sum of all the sales from top 6 categories of buliding class: 31969\n",
      "Sum of the sales from rest of the categorues: 4203\n"
     ]
    }
   ],
   "source": [
    "print('Sum of all the sales from top 6 categories of buliding class:', \n",
    "      data['BUILDING CLASS CATEGORY'].value_counts()[0:6].sum())\n",
    "print('Sum of the sales from rest of the categorues:', data['BUILDING CLASS CATEGORY'].value_counts()[6:45].sum())"
   ]
  },
  {
   "cell_type": "markdown",
   "id": "cc98bb59",
   "metadata": {},
   "source": [
    "From the above results the first six categories of the building class categories can be used in our analysis as it contains the majority of the sales. Before processing further lets look at the correlation matrix on the data"
   ]
  },
  {
   "cell_type": "code",
   "execution_count": 30,
   "id": "50c8fef0",
   "metadata": {},
   "outputs": [
    {
     "data": {
      "image/png": "[encoded data removed]",
      "text/plain": [
       "<Figure size 864x720 with 2 Axes>"
      ]
     },
     "metadata": {
      "needs_background": "light"
     },
     "output_type": "display_data"
    }
   ],
   "source": [
    "plt.figure(figsize=(12,10))\n",
    "cor = data.corr()\n",
    "sns.heatmap(cor, annot=True, cmap=plt.cm.Reds)\n",
    "plt.show()"
   ]
  },
  {
   "cell_type": "markdown",
   "id": "e7fb9ddc",
   "metadata": {},
   "source": [
    "The correlation matrix shows that the sale price has correlation with gross square feet area, larger the area. higher the sale price. Gross square feet area itself is correlated to residential units, total units and land sqaure feet. Residential units is highly correlated to total units. "
   ]
  },
  {
   "cell_type": "markdown",
   "id": "5b7b4912",
   "metadata": {},
   "source": [
    "### Data preprocessing and Feature Engineering"
   ]
  },
  {
   "cell_type": "markdown",
   "id": "b113c54d",
   "metadata": {},
   "source": [
    "Outliers in Target Variable"
   ]
  },
  {
   "cell_type": "code",
   "execution_count": 31,
   "id": "385442e3",
   "metadata": {},
   "outputs": [
    {
     "data": {
      "image/png": "[encoded data removed]",
      "text/plain": [
       "<Figure size 720x504 with 1 Axes>"
      ]
     },
     "metadata": {
      "needs_background": "light"
     },
     "output_type": "display_data"
    }
   ],
   "source": [
    "plt.figure(figsize=(10,7))\n",
    "\n",
    "sns.boxplot(x='SALE PRICE', data=data)\n",
    "plt.ticklabel_format(style='plain', axis='x')\n",
    "plt.title('SALE PRICE')\n",
    "plt.show()"
   ]
  },
  {
   "cell_type": "markdown",
   "id": "10f5b318",
   "metadata": {},
   "source": [
    "Removing the outliers in the sale price and plotting the distribution"
   ]
  },
  {
   "cell_type": "code",
   "execution_count": 32,
   "id": "d8c6b0f5",
   "metadata": {},
   "outputs": [],
   "source": [
    "data = data[(data[\"SALE PRICE\"] > 10000) & (data['SALE PRICE'] < 5e8)]"
   ]
  },
  {
   "cell_type": "markdown",
   "id": "aee959f0",
   "metadata": {},
   "source": [
    "Missing values in the data"
   ]
  },
  {
   "cell_type": "code",
   "execution_count": 33,
   "id": "c8c4c4c0",
   "metadata": {},
   "outputs": [
    {
     "data": {
      "text/plain": [
       "['ZIP CODE',\n",
       " 'RESIDENTIAL UNITS',\n",
       " 'COMMERCIAL UNITS',\n",
       " 'TOTAL UNITS',\n",
       " 'YEAR BUILT',\n",
       " 'LAND SQUARE FEET',\n",
       " 'GROSS SQUARE FEET',\n",
       " 'SALE PRICE']"
      ]
     },
     "execution_count": 33,
     "metadata": {},
     "output_type": "execute_result"
    }
   ],
   "source": [
    "num = data.dtypes == 'int'\n",
    "flt = data.dtypes == 'float'\n",
    "num_ftrs = list(num[num].index)\n",
    "num_ftrs.extend(list(flt[flt].index))\n",
    "num_ftrs"
   ]
  },
  {
   "cell_type": "code",
   "execution_count": 34,
   "id": "c48fe79a",
   "metadata": {},
   "outputs": [
    {
     "name": "stdout",
     "output_type": "stream",
     "text": [
      "ZIP CODE has 0 missing values as 0\n",
      "RESIDENTIAL UNITS has 4836 missing values as 0\n",
      "COMMERCIAL UNITS has 32456 missing values as 0\n",
      "TOTAL UNITS has 3436 missing values as 0\n",
      "YEAR BUILT has 0 missing values as 0\n",
      "LAND SQUARE FEET has 6696 missing values as 0\n",
      "GROSS SQUARE FEET has 6761 missing values as 0\n",
      "SALE PRICE has 0 missing values as 0\n"
     ]
    }
   ],
   "source": [
    "# Checking for missing values that are zeros in the data \n",
    "miss_list = []\n",
    "for i in num_ftrs : \n",
    "    x = len(data[data[i] == 0])\n",
    "    print('{} has {} missing values as 0'.format(i, x))\n",
    "    if x > 0 :\n",
    "        miss_list.append(i)"
   ]
  },
  {
   "cell_type": "markdown",
   "id": "2c850a83",
   "metadata": {},
   "source": [
    "Most values for 'COMMERCIAL UNITS' are missing and hence it can dropped from the analysis. "
   ]
  },
  {
   "cell_type": "code",
   "execution_count": 35,
   "id": "e9b2dda9",
   "metadata": {},
   "outputs": [],
   "source": [
    "data.drop('COMMERCIAL UNITS', axis=1, inplace=True)"
   ]
  },
  {
   "cell_type": "code",
   "execution_count": 36,
   "id": "7504b39e",
   "metadata": {},
   "outputs": [],
   "source": [
    "miss_list.remove('COMMERCIAL UNITS')"
   ]
  },
  {
   "cell_type": "markdown",
   "id": "65eec66c",
   "metadata": {},
   "source": [
    "There are missing values still present in the data. There are two ways of dealing with these missing values. 1) They can be imputed with respective mean values of the variable. 2) Removing these data points to keep to avoid manupulating the data and keeping the original data intact. In this step I chose to remove these datapoints"
   ]
  },
  {
   "cell_type": "code",
   "execution_count": 37,
   "id": "039d232c",
   "metadata": {},
   "outputs": [
    {
     "data": {
      "text/plain": [
       "(27135, 15)"
      ]
     },
     "execution_count": 37,
     "metadata": {},
     "output_type": "execute_result"
    }
   ],
   "source": [
    "# Dropping zero missing values from independent variables\n",
    "for i in miss_list:\n",
    "    data = data[data[i] !=0]\n",
    "data.shape"
   ]
  },
  {
   "cell_type": "markdown",
   "id": "e4a7b7b8",
   "metadata": {},
   "source": [
    "As discussed in the previous section, we are selecting the data of top Building class categories for our analysis."
   ]
  },
  {
   "cell_type": "code",
   "execution_count": 38,
   "id": "c591e187",
   "metadata": {},
   "outputs": [],
   "source": [
    "data['BUILDING CLASS CATEGORY'] = data['BUILDING CLASS CATEGORY'].str.strip()"
   ]
  },
  {
   "cell_type": "code",
   "execution_count": 39,
   "id": "b0634092",
   "metadata": {},
   "outputs": [],
   "source": [
    "data = data[(data['BUILDING CLASS CATEGORY'] == '01 ONE FAMILY DWELLINGS') | (data['BUILDING CLASS CATEGORY'] == '02 TWO FAMILY DWELLINGS')\n",
    "            | (data['BUILDING CLASS CATEGORY'] == '10 COOPS - ELEVATOR APARTMENTS') | (data['BUILDING CLASS CATEGORY'] == '03 THREE FAMILY DWELLINGS')\n",
    "            | (data['BUILDING CLASS CATEGORY'] == '13 CONDOS - ELEVATOR APARTMENTS') | (data['BUILDING CLASS CATEGORY'] == '07 RENTALS - WALKUP APARTMENTS')]"
   ]
  },
  {
   "cell_type": "code",
   "execution_count": 40,
   "id": "5a6aec08",
   "metadata": {},
   "outputs": [],
   "source": [
    "#Dropping categorical variables \n",
    "data.drop(columns=['NEIGHBORHOOD','BUILDING CLASS AT PRESENT', 'ZIP CODE','BUILDING CLASS AT TIME OF SALE','SALE DATE'], axis=1, inplace=True)"
   ]
  },
  {
   "cell_type": "code",
   "execution_count": 41,
   "id": "12a47823",
   "metadata": {},
   "outputs": [
    {
     "data": {
      "text/plain": [
       "BOROUGH                       object\n",
       "BUILDING CLASS CATEGORY       object\n",
       "TAX CLASS AT PRESENT          object\n",
       "RESIDENTIAL UNITS              int64\n",
       "TOTAL UNITS                    int64\n",
       "LAND SQUARE FEET             float64\n",
       "GROSS SQUARE FEET            float64\n",
       "YEAR BUILT                     int64\n",
       "TAX CLASS AT TIME OF SALE     object\n",
       "SALE PRICE                   float64\n",
       "dtype: object"
      ]
     },
     "execution_count": 41,
     "metadata": {},
     "output_type": "execute_result"
    }
   ],
   "source": [
    "data.dtypes"
   ]
  },
  {
   "cell_type": "markdown",
   "id": "5c886cab",
   "metadata": {},
   "source": [
    "The three remaining categorical variables in the data need to be transformed using one hot encoding"
   ]
  },
  {
   "cell_type": "code",
   "execution_count": 42,
   "id": "62135a4a",
   "metadata": {},
   "outputs": [
    {
     "name": "stdout",
     "output_type": "stream",
     "text": [
      "<class 'pandas.core.frame.DataFrame'>\n",
      "Int64Index: 26395 entries, 0 to 84545\n",
      "Data columns (total 17 columns):\n",
      " #   Column                                                  Non-Null Count  Dtype\n",
      "---  ------                                                  --------------  -----\n",
      " 0   BOROUGH_1                                               26395 non-null  uint8\n",
      " 1   BOROUGH_2                                               26395 non-null  uint8\n",
      " 2   BOROUGH_3                                               26395 non-null  uint8\n",
      " 3   BOROUGH_4                                               26395 non-null  uint8\n",
      " 4   BOROUGH_5                                               26395 non-null  uint8\n",
      " 5   BUILDING CLASS CATEGORY_01 ONE FAMILY DWELLINGS         26395 non-null  uint8\n",
      " 6   BUILDING CLASS CATEGORY_02 TWO FAMILY DWELLINGS         26395 non-null  uint8\n",
      " 7   BUILDING CLASS CATEGORY_03 THREE FAMILY DWELLINGS       26395 non-null  uint8\n",
      " 8   BUILDING CLASS CATEGORY_07 RENTALS - WALKUP APARTMENTS  26395 non-null  uint8\n",
      " 9   BUILDING CLASS CATEGORY_10 COOPS - ELEVATOR APARTMENTS  26395 non-null  uint8\n",
      " 10  TAX CLASS AT PRESENT_1                                  26395 non-null  uint8\n",
      " 11  TAX CLASS AT PRESENT_2                                  26395 non-null  uint8\n",
      " 12  TAX CLASS AT PRESENT_2A                                 26395 non-null  uint8\n",
      " 13  TAX CLASS AT PRESENT_2B                                 26395 non-null  uint8\n",
      " 14  TAX CLASS AT PRESENT_4                                  26395 non-null  uint8\n",
      " 15  TAX CLASS AT TIME OF SALE_1                             26395 non-null  uint8\n",
      " 16  TAX CLASS AT TIME OF SALE_2                             26395 non-null  uint8\n",
      "dtypes: uint8(17)\n",
      "memory usage: 644.4 KB\n"
     ]
    }
   ],
   "source": [
    "cat_var = ['BOROUGH', 'BUILDING CLASS CATEGORY','TAX CLASS AT PRESENT', 'TAX CLASS AT TIME OF SALE']\n",
    "one_hot_cols = pd.get_dummies(data[cat_var])\n",
    "one_hot_cols.info(verbose=True)"
   ]
  },
  {
   "cell_type": "code",
   "execution_count": 43,
   "id": "c81e7b4c",
   "metadata": {},
   "outputs": [
    {
     "data": {
      "text/html": [
       "<div>\n",
       "<style scoped>\n",
       "    .dataframe tbody tr th:only-of-type {\n",
       "        vertical-align: middle;\n",
       "    }\n",
       "\n",
       "    .dataframe tbody tr th {\n",
       "        vertical-align: top;\n",
       "    }\n",
       "\n",
       "    .dataframe thead th {\n",
       "        text-align: right;\n",
       "    }\n",
       "</style>\n",
       "<table border=\"1\" class=\"dataframe\">\n",
       "  <thead>\n",
       "    <tr style=\"text-align: right;\">\n",
       "      <th></th>\n",
       "      <th>RESIDENTIAL UNITS</th>\n",
       "      <th>TOTAL UNITS</th>\n",
       "      <th>LAND SQUARE FEET</th>\n",
       "      <th>GROSS SQUARE FEET</th>\n",
       "      <th>YEAR BUILT</th>\n",
       "      <th>SALE PRICE</th>\n",
       "      <th>BOROUGH_1</th>\n",
       "      <th>BOROUGH_2</th>\n",
       "      <th>BOROUGH_3</th>\n",
       "      <th>BOROUGH_4</th>\n",
       "      <th>...</th>\n",
       "      <th>BUILDING CLASS CATEGORY_03 THREE FAMILY DWELLINGS</th>\n",
       "      <th>BUILDING CLASS CATEGORY_07 RENTALS - WALKUP APARTMENTS</th>\n",
       "      <th>BUILDING CLASS CATEGORY_10 COOPS - ELEVATOR APARTMENTS</th>\n",
       "      <th>TAX CLASS AT PRESENT_1</th>\n",
       "      <th>TAX CLASS AT PRESENT_2</th>\n",
       "      <th>TAX CLASS AT PRESENT_2A</th>\n",
       "      <th>TAX CLASS AT PRESENT_2B</th>\n",
       "      <th>TAX CLASS AT PRESENT_4</th>\n",
       "      <th>TAX CLASS AT TIME OF SALE_1</th>\n",
       "      <th>TAX CLASS AT TIME OF SALE_2</th>\n",
       "    </tr>\n",
       "  </thead>\n",
       "  <tbody>\n",
       "    <tr>\n",
       "      <th>0</th>\n",
       "      <td>5</td>\n",
       "      <td>5</td>\n",
       "      <td>1633.0</td>\n",
       "      <td>6440.0</td>\n",
       "      <td>1900</td>\n",
       "      <td>6625000.0</td>\n",
       "      <td>1</td>\n",
       "      <td>0</td>\n",
       "      <td>0</td>\n",
       "      <td>0</td>\n",
       "      <td>...</td>\n",
       "      <td>0</td>\n",
       "      <td>1</td>\n",
       "      <td>0</td>\n",
       "      <td>0</td>\n",
       "      <td>0</td>\n",
       "      <td>1</td>\n",
       "      <td>0</td>\n",
       "      <td>0</td>\n",
       "      <td>0</td>\n",
       "      <td>1</td>\n",
       "    </tr>\n",
       "    <tr>\n",
       "      <th>3</th>\n",
       "      <td>10</td>\n",
       "      <td>10</td>\n",
       "      <td>2272.0</td>\n",
       "      <td>6794.0</td>\n",
       "      <td>1913</td>\n",
       "      <td>3936272.0</td>\n",
       "      <td>1</td>\n",
       "      <td>0</td>\n",
       "      <td>0</td>\n",
       "      <td>0</td>\n",
       "      <td>...</td>\n",
       "      <td>0</td>\n",
       "      <td>1</td>\n",
       "      <td>0</td>\n",
       "      <td>0</td>\n",
       "      <td>0</td>\n",
       "      <td>0</td>\n",
       "      <td>1</td>\n",
       "      <td>0</td>\n",
       "      <td>0</td>\n",
       "      <td>1</td>\n",
       "    </tr>\n",
       "    <tr>\n",
       "      <th>4</th>\n",
       "      <td>6</td>\n",
       "      <td>6</td>\n",
       "      <td>2369.0</td>\n",
       "      <td>4615.0</td>\n",
       "      <td>1900</td>\n",
       "      <td>8000000.0</td>\n",
       "      <td>1</td>\n",
       "      <td>0</td>\n",
       "      <td>0</td>\n",
       "      <td>0</td>\n",
       "      <td>...</td>\n",
       "      <td>0</td>\n",
       "      <td>1</td>\n",
       "      <td>0</td>\n",
       "      <td>0</td>\n",
       "      <td>0</td>\n",
       "      <td>1</td>\n",
       "      <td>0</td>\n",
       "      <td>0</td>\n",
       "      <td>0</td>\n",
       "      <td>1</td>\n",
       "    </tr>\n",
       "    <tr>\n",
       "      <th>6</th>\n",
       "      <td>8</td>\n",
       "      <td>8</td>\n",
       "      <td>1750.0</td>\n",
       "      <td>4226.0</td>\n",
       "      <td>1920</td>\n",
       "      <td>3192840.0</td>\n",
       "      <td>1</td>\n",
       "      <td>0</td>\n",
       "      <td>0</td>\n",
       "      <td>0</td>\n",
       "      <td>...</td>\n",
       "      <td>0</td>\n",
       "      <td>1</td>\n",
       "      <td>0</td>\n",
       "      <td>0</td>\n",
       "      <td>0</td>\n",
       "      <td>0</td>\n",
       "      <td>1</td>\n",
       "      <td>0</td>\n",
       "      <td>0</td>\n",
       "      <td>1</td>\n",
       "    </tr>\n",
       "    <tr>\n",
       "      <th>206</th>\n",
       "      <td>1</td>\n",
       "      <td>1</td>\n",
       "      <td>1975.0</td>\n",
       "      <td>3855.0</td>\n",
       "      <td>1901</td>\n",
       "      <td>7425000.0</td>\n",
       "      <td>1</td>\n",
       "      <td>0</td>\n",
       "      <td>0</td>\n",
       "      <td>0</td>\n",
       "      <td>...</td>\n",
       "      <td>0</td>\n",
       "      <td>0</td>\n",
       "      <td>0</td>\n",
       "      <td>1</td>\n",
       "      <td>0</td>\n",
       "      <td>0</td>\n",
       "      <td>0</td>\n",
       "      <td>0</td>\n",
       "      <td>1</td>\n",
       "      <td>0</td>\n",
       "    </tr>\n",
       "  </tbody>\n",
       "</table>\n",
       "<p>5 rows × 23 columns</p>\n",
       "</div>"
      ],
      "text/plain": [
       "     RESIDENTIAL UNITS  TOTAL UNITS  LAND SQUARE FEET  GROSS SQUARE FEET  \\\n",
       "0                    5            5            1633.0             6440.0   \n",
       "3                   10           10            2272.0             6794.0   \n",
       "4                    6            6            2369.0             4615.0   \n",
       "6                    8            8            1750.0             4226.0   \n",
       "206                  1            1            1975.0             3855.0   \n",
       "\n",
       "     YEAR BUILT  SALE PRICE  BOROUGH_1  BOROUGH_2  BOROUGH_3  BOROUGH_4  ...  \\\n",
       "0          1900   6625000.0          1          0          0          0  ...   \n",
       "3          1913   3936272.0          1          0          0          0  ...   \n",
       "4          1900   8000000.0          1          0          0          0  ...   \n",
       "6          1920   3192840.0          1          0          0          0  ...   \n",
       "206        1901   7425000.0          1          0          0          0  ...   \n",
       "\n",
       "     BUILDING CLASS CATEGORY_03 THREE FAMILY DWELLINGS  \\\n",
       "0                                                    0   \n",
       "3                                                    0   \n",
       "4                                                    0   \n",
       "6                                                    0   \n",
       "206                                                  0   \n",
       "\n",
       "     BUILDING CLASS CATEGORY_07 RENTALS - WALKUP APARTMENTS  \\\n",
       "0                                                    1        \n",
       "3                                                    1        \n",
       "4                                                    1        \n",
       "6                                                    1        \n",
       "206                                                  0        \n",
       "\n",
       "     BUILDING CLASS CATEGORY_10 COOPS - ELEVATOR APARTMENTS  \\\n",
       "0                                                    0        \n",
       "3                                                    0        \n",
       "4                                                    0        \n",
       "6                                                    0        \n",
       "206                                                  0        \n",
       "\n",
       "     TAX CLASS AT PRESENT_1  TAX CLASS AT PRESENT_2  TAX CLASS AT PRESENT_2A  \\\n",
       "0                         0                       0                        1   \n",
       "3                         0                       0                        0   \n",
       "4                         0                       0                        1   \n",
       "6                         0                       0                        0   \n",
       "206                       1                       0                        0   \n",
       "\n",
       "     TAX CLASS AT PRESENT_2B  TAX CLASS AT PRESENT_4  \\\n",
       "0                          0                       0   \n",
       "3                          1                       0   \n",
       "4                          0                       0   \n",
       "6                          1                       0   \n",
       "206                        0                       0   \n",
       "\n",
       "     TAX CLASS AT TIME OF SALE_1  TAX CLASS AT TIME OF SALE_2  \n",
       "0                              0                            1  \n",
       "3                              0                            1  \n",
       "4                              0                            1  \n",
       "6                              0                            1  \n",
       "206                            1                            0  \n",
       "\n",
       "[5 rows x 23 columns]"
      ]
     },
     "execution_count": 43,
     "metadata": {},
     "output_type": "execute_result"
    }
   ],
   "source": [
    "final_data = data.drop(cat_var, axis =1)\n",
    "final_data = pd.concat([final_data, one_hot_cols], axis=1)\n",
    "final_data.head()"
   ]
  },
  {
   "cell_type": "markdown",
   "id": "4e871366",
   "metadata": {},
   "source": [
    "### Modeling and Evaluation"
   ]
  },
  {
   "cell_type": "markdown",
   "id": "ccc3de3d",
   "metadata": {},
   "source": [
    "Generating the input to the models with relevant features"
   ]
  },
  {
   "cell_type": "code",
   "execution_count": 44,
   "id": "abf67855",
   "metadata": {},
   "outputs": [],
   "source": [
    "X = final_data.drop('SALE PRICE', axis=1)\n",
    "y = final_data['SALE PRICE']"
   ]
  },
  {
   "cell_type": "code",
   "execution_count": 45,
   "id": "fc6303b9",
   "metadata": {},
   "outputs": [
    {
     "data": {
      "text/plain": [
       "((26395, 22), (26395,))"
      ]
     },
     "execution_count": 45,
     "metadata": {},
     "output_type": "execute_result"
    }
   ],
   "source": [
    "X.shape, y.shape"
   ]
  },
  {
   "cell_type": "code",
   "execution_count": 46,
   "id": "4b2bf6fa",
   "metadata": {},
   "outputs": [],
   "source": [
    "# Splitting the data into train and test\n",
    "X_train, X_test, y_train, y_test = train_test_split(X, y, test_size=0.2)"
   ]
  },
  {
   "cell_type": "markdown",
   "id": "432219a2",
   "metadata": {},
   "source": [
    "Here we are using four different regression models, Linear, Ridge, Lasso and Randomforest to model the data"
   ]
  },
  {
   "cell_type": "markdown",
   "id": "c2cbb933",
   "metadata": {},
   "source": [
    "Linear Regression"
   ]
  },
  {
   "cell_type": "code",
   "execution_count": 47,
   "id": "904925c8",
   "metadata": {},
   "outputs": [
    {
     "name": "stdout",
     "output_type": "stream",
     "text": [
      "Score of train data for Linear Regression: 0.3349760883866735\n",
      "RMSE for Linear Regression: 1055484.972659921\n",
      "Score of test data for Linear Regression: 0.4186119659949401\n"
     ]
    }
   ],
   "source": [
    "LR = LinearRegression()\n",
    "LR.fit(X_train, y_train)\n",
    "ypred_LR = LR.predict(X_test)\n",
    "print('Score of train data for Linear Regression:', LR.score(X_train,y_train))\n",
    "print('RMSE for Linear Regression:', np.sqrt(mean_squared_error(ypred_LR, y_test)))\n",
    "print('Score of test data for Linear Regression:', LR.score(X_test,y_test))"
   ]
  },
  {
   "cell_type": "markdown",
   "id": "7b50e0ba",
   "metadata": {},
   "source": [
    "Ridge Regression"
   ]
  },
  {
   "cell_type": "code",
   "execution_count": 48,
   "id": "4e9e0dbd",
   "metadata": {},
   "outputs": [
    {
     "name": "stdout",
     "output_type": "stream",
     "text": [
      "Score of train data for Ridge Regression: 0.3349367875870325\n",
      "RMSE for Ridge Regression: 1054267.2577232283\n",
      "Score of test data for Linear Regression: 0.41995268902019645\n"
     ]
    }
   ],
   "source": [
    "ridge = Ridge()\n",
    "ridge.fit(X_train, y_train)\n",
    "ypred_ridge = ridge.predict(X_test)\n",
    "print('Score of train data for Ridge Regression:', ridge.score(X_train,y_train))\n",
    "print('RMSE for Ridge Regression:', np.sqrt(mean_squared_error(ypred_ridge, y_test)))\n",
    "print('Score of test data for Linear Regression:', ridge.score(X_test,y_test))"
   ]
  },
  {
   "cell_type": "markdown",
   "id": "0dea6ee0",
   "metadata": {},
   "source": [
    "Lasso Regression"
   ]
  },
  {
   "cell_type": "code",
   "execution_count": 49,
   "id": "83503768",
   "metadata": {},
   "outputs": [
    {
     "name": "stdout",
     "output_type": "stream",
     "text": [
      "Score of train data for Lasso Regression: 0.3339703992634824\n",
      "RMSE for Lasso Regression: 1062341.2934690972\n",
      "Score of test data for Lasso Regression: 0.41103416073116994\n"
     ]
    },
    {
     "name": "stderr",
     "output_type": "stream",
     "text": [
      "/Users/priyadas/opt/anaconda3/lib/python3.9/site-packages/sklearn/linear_model/_coordinate_descent.py:647: ConvergenceWarning: Objective did not converge. You might want to increase the number of iterations, check the scale of the features or consider increasing regularisation. Duality gap: 3.061e+16, tolerance: 9.193e+12\n",
      "  model = cd_fast.enet_coordinate_descent(\n"
     ]
    }
   ],
   "source": [
    "las = Lasso()\n",
    "las.fit(X_train, y_train)\n",
    "ypred_las= las.predict(X_test)\n",
    "print('Score of train data for Lasso Regression:', las.score(X_train,y_train))\n",
    "print('RMSE for Lasso Regression:', np.sqrt(mean_squared_error(ypred_las, y_test)))\n",
    "print('Score of test data for Lasso Regression:', las.score(X_test,y_test))"
   ]
  },
  {
   "cell_type": "markdown",
   "id": "d55f3ef5",
   "metadata": {},
   "source": [
    "Random Forest Regressor"
   ]
  },
  {
   "cell_type": "code",
   "execution_count": 50,
   "id": "8090fd28",
   "metadata": {},
   "outputs": [
    {
     "name": "stdout",
     "output_type": "stream",
     "text": [
      "Score of train data for Random Forest Regressor: 0.3349760883866735\n",
      "RMSE for Random Forest Regressor: 1080577.2343781563\n",
      "Score of test data for Random Forest Regressor: 0.3906404706043952\n"
     ]
    }
   ],
   "source": [
    "RF = RandomForestRegressor()\n",
    "RF.fit(X_train, y_train)\n",
    "ypred_RF = RF.predict(X_test)\n",
    "print('Score of train data for Random Forest Regressor:', LR.score(X_train,y_train))\n",
    "print('RMSE for Random Forest Regressor:', np.sqrt(mean_squared_error(ypred_RF, y_test)))\n",
    "print('Score of test data for Random Forest Regressor:', RF.score(X_test,y_test))"
   ]
  },
  {
   "cell_type": "markdown",
   "id": "f1e76b79",
   "metadata": {},
   "source": [
    "### Conclusion"
   ]
  },
  {
   "cell_type": "markdown",
   "id": "0d73bd83",
   "metadata": {},
   "source": [
    "The NYC real estate data has been analysed and cleaned before building a model for sale price prediction. The data had a lot of missing values in the form of characters and 0. The missing values of the data has been deleted tp preserve the original data. The data also consisted of more categorical variables than numerical variables. For this analysis and modelling, some categorical variables were introduced through one hot encoding. The price prediction was achieved by using four different regression models: Linear, Ridge, Lasso and Random Forest. The model functioning in prediction of the price was evaluated using the root mean squares error and score feature. \n",
    "\n",
    "The score for train data from each model was close to 0.34 and very high rmse in the order of 1e6. The score for test data is also around 0.41 for all the models except for Random Forest (0.39). The low scores and high rmse indicate that the model failed to capture the important features of the data. The model could be improved, in my opinion, by introducing more categorical variables in the analysis. Other factors that might be impacting the performance of the model are wide range of sale price and deleting the missing values. By narrowing the sale price through removing outliers & scaling and imputing the missing values might improve the model performance."
   ]
  }
 ],
 "metadata": {
  "kernelspec": {
   "display_name": "Python 3 (ipykernel)",
   "language": "python",
   "name": "python3"
  },
  "language_info": {
   "codemirror_mode": {
    "name": "ipython",
    "version": 3
   },
   "file_extension": ".py",
   "mimetype": "text/x-python",
   "name": "python",
   "nbconvert_exporter": "python",
   "pygments_lexer": "ipython3",
   "version": "3.9.12"
  }
 },
 "nbformat": 4,
 "nbformat_minor": 5
}
