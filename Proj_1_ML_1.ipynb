{
 "cells": [
  {
   "cell_type": "markdown",
   "id": "ed261de1",
   "metadata": {},
   "source": [
    "<h1 style='text-align: center;'> Machine Learning Project 1 </h1>\n",
    "<h3 style='text-align: center;'> By Sri Das </h3>"
   ]
  },
  {
   "cell_type": "markdown",
   "id": "28b102d4",
   "metadata": {},
   "source": [
    "<h2 style='text-align: center;'> NYC House price prediction </h2>"
   ]
  },
  {
   "cell_type": "markdown",
   "id": "1eb644c1",
   "metadata": {},
   "source": [
    "### Importing required packages"
   ]
  },
  {
   "cell_type": "code",
   "execution_count": 56,
   "id": "4284bc7a",
   "metadata": {},
   "outputs": [],
   "source": [
    "import pandas as pd\n",
    "import numpy as np\n",
    "import matplotlib.pyplot as plt\n",
    "import seaborn as sns\n",
    "from sklearn.impute import SimpleImputer \n",
    "from sklearn.model_selection import train_test_split\n",
    "from sklearn.preprocessing import StandardScaler \n",
    "from sklearn.linear_model import LinearRegression, Ridge, Lasso"
   ]
  },
  {
   "cell_type": "markdown",
   "id": "ccf0ae0b",
   "metadata": {},
   "source": [
    "### Importing Data and EDA"
   ]
  },
  {
   "cell_type": "code",
   "execution_count": 24,
   "id": "831b18d2",
   "metadata": {},
   "outputs": [
    {
     "data": {
      "text/html": [
       "<div>\n",
       "<style scoped>\n",
       "    .dataframe tbody tr th:only-of-type {\n",
       "        vertical-align: middle;\n",
       "    }\n",
       "\n",
       "    .dataframe tbody tr th {\n",
       "        vertical-align: top;\n",
       "    }\n",
       "\n",
       "    .dataframe thead th {\n",
       "        text-align: right;\n",
       "    }\n",
       "</style>\n",
       "<table border=\"1\" class=\"dataframe\">\n",
       "  <thead>\n",
       "    <tr style=\"text-align: right;\">\n",
       "      <th></th>\n",
       "      <th>Unnamed: 0</th>\n",
       "      <th>BOROUGH</th>\n",
       "      <th>NEIGHBORHOOD</th>\n",
       "      <th>BUILDING CLASS CATEGORY</th>\n",
       "      <th>TAX CLASS AT PRESENT</th>\n",
       "      <th>BLOCK</th>\n",
       "      <th>LOT</th>\n",
       "      <th>EASE-MENT</th>\n",
       "      <th>BUILDING CLASS AT PRESENT</th>\n",
       "      <th>ADDRESS</th>\n",
       "      <th>...</th>\n",
       "      <th>RESIDENTIAL UNITS</th>\n",
       "      <th>COMMERCIAL UNITS</th>\n",
       "      <th>TOTAL UNITS</th>\n",
       "      <th>LAND SQUARE FEET</th>\n",
       "      <th>GROSS SQUARE FEET</th>\n",
       "      <th>YEAR BUILT</th>\n",
       "      <th>TAX CLASS AT TIME OF SALE</th>\n",
       "      <th>BUILDING CLASS AT TIME OF SALE</th>\n",
       "      <th>SALE PRICE</th>\n",
       "      <th>SALE DATE</th>\n",
       "    </tr>\n",
       "  </thead>\n",
       "  <tbody>\n",
       "    <tr>\n",
       "      <th>0</th>\n",
       "      <td>4</td>\n",
       "      <td>1</td>\n",
       "      <td>ALPHABET CITY</td>\n",
       "      <td>07 RENTALS - WALKUP APARTMENTS</td>\n",
       "      <td>2A</td>\n",
       "      <td>392</td>\n",
       "      <td>6</td>\n",
       "      <td></td>\n",
       "      <td>C2</td>\n",
       "      <td>153 AVENUE B</td>\n",
       "      <td>...</td>\n",
       "      <td>5</td>\n",
       "      <td>0</td>\n",
       "      <td>5</td>\n",
       "      <td>1633</td>\n",
       "      <td>6440</td>\n",
       "      <td>1900</td>\n",
       "      <td>2</td>\n",
       "      <td>C2</td>\n",
       "      <td>6625000</td>\n",
       "      <td>2017-07-19 00:00:00</td>\n",
       "    </tr>\n",
       "    <tr>\n",
       "      <th>1</th>\n",
       "      <td>5</td>\n",
       "      <td>1</td>\n",
       "      <td>ALPHABET CITY</td>\n",
       "      <td>07 RENTALS - WALKUP APARTMENTS</td>\n",
       "      <td>2</td>\n",
       "      <td>399</td>\n",
       "      <td>26</td>\n",
       "      <td></td>\n",
       "      <td>C7</td>\n",
       "      <td>234 EAST 4TH   STREET</td>\n",
       "      <td>...</td>\n",
       "      <td>28</td>\n",
       "      <td>3</td>\n",
       "      <td>31</td>\n",
       "      <td>4616</td>\n",
       "      <td>18690</td>\n",
       "      <td>1900</td>\n",
       "      <td>2</td>\n",
       "      <td>C7</td>\n",
       "      <td>-</td>\n",
       "      <td>2016-12-14 00:00:00</td>\n",
       "    </tr>\n",
       "    <tr>\n",
       "      <th>2</th>\n",
       "      <td>6</td>\n",
       "      <td>1</td>\n",
       "      <td>ALPHABET CITY</td>\n",
       "      <td>07 RENTALS - WALKUP APARTMENTS</td>\n",
       "      <td>2</td>\n",
       "      <td>399</td>\n",
       "      <td>39</td>\n",
       "      <td></td>\n",
       "      <td>C7</td>\n",
       "      <td>197 EAST 3RD   STREET</td>\n",
       "      <td>...</td>\n",
       "      <td>16</td>\n",
       "      <td>1</td>\n",
       "      <td>17</td>\n",
       "      <td>2212</td>\n",
       "      <td>7803</td>\n",
       "      <td>1900</td>\n",
       "      <td>2</td>\n",
       "      <td>C7</td>\n",
       "      <td>-</td>\n",
       "      <td>2016-12-09 00:00:00</td>\n",
       "    </tr>\n",
       "    <tr>\n",
       "      <th>3</th>\n",
       "      <td>7</td>\n",
       "      <td>1</td>\n",
       "      <td>ALPHABET CITY</td>\n",
       "      <td>07 RENTALS - WALKUP APARTMENTS</td>\n",
       "      <td>2B</td>\n",
       "      <td>402</td>\n",
       "      <td>21</td>\n",
       "      <td></td>\n",
       "      <td>C4</td>\n",
       "      <td>154 EAST 7TH STREET</td>\n",
       "      <td>...</td>\n",
       "      <td>10</td>\n",
       "      <td>0</td>\n",
       "      <td>10</td>\n",
       "      <td>2272</td>\n",
       "      <td>6794</td>\n",
       "      <td>1913</td>\n",
       "      <td>2</td>\n",
       "      <td>C4</td>\n",
       "      <td>3936272</td>\n",
       "      <td>2016-09-23 00:00:00</td>\n",
       "    </tr>\n",
       "    <tr>\n",
       "      <th>4</th>\n",
       "      <td>8</td>\n",
       "      <td>1</td>\n",
       "      <td>ALPHABET CITY</td>\n",
       "      <td>07 RENTALS - WALKUP APARTMENTS</td>\n",
       "      <td>2A</td>\n",
       "      <td>404</td>\n",
       "      <td>55</td>\n",
       "      <td></td>\n",
       "      <td>C2</td>\n",
       "      <td>301 EAST 10TH   STREET</td>\n",
       "      <td>...</td>\n",
       "      <td>6</td>\n",
       "      <td>0</td>\n",
       "      <td>6</td>\n",
       "      <td>2369</td>\n",
       "      <td>4615</td>\n",
       "      <td>1900</td>\n",
       "      <td>2</td>\n",
       "      <td>C2</td>\n",
       "      <td>8000000</td>\n",
       "      <td>2016-11-17 00:00:00</td>\n",
       "    </tr>\n",
       "  </tbody>\n",
       "</table>\n",
       "<p>5 rows × 22 columns</p>\n",
       "</div>"
      ],
      "text/plain": [
       "   Unnamed: 0  BOROUGH   NEIGHBORHOOD  \\\n",
       "0           4        1  ALPHABET CITY   \n",
       "1           5        1  ALPHABET CITY   \n",
       "2           6        1  ALPHABET CITY   \n",
       "3           7        1  ALPHABET CITY   \n",
       "4           8        1  ALPHABET CITY   \n",
       "\n",
       "                       BUILDING CLASS CATEGORY TAX CLASS AT PRESENT  BLOCK  \\\n",
       "0  07 RENTALS - WALKUP APARTMENTS                                2A    392   \n",
       "1  07 RENTALS - WALKUP APARTMENTS                                 2    399   \n",
       "2  07 RENTALS - WALKUP APARTMENTS                                 2    399   \n",
       "3  07 RENTALS - WALKUP APARTMENTS                                2B    402   \n",
       "4  07 RENTALS - WALKUP APARTMENTS                                2A    404   \n",
       "\n",
       "   LOT EASE-MENT BUILDING CLASS AT PRESENT                 ADDRESS  ...  \\\n",
       "0    6                                  C2            153 AVENUE B  ...   \n",
       "1   26                                  C7   234 EAST 4TH   STREET  ...   \n",
       "2   39                                  C7   197 EAST 3RD   STREET  ...   \n",
       "3   21                                  C4     154 EAST 7TH STREET  ...   \n",
       "4   55                                  C2  301 EAST 10TH   STREET  ...   \n",
       "\n",
       "  RESIDENTIAL UNITS  COMMERCIAL UNITS  TOTAL UNITS  LAND SQUARE FEET  \\\n",
       "0                 5                 0            5              1633   \n",
       "1                28                 3           31              4616   \n",
       "2                16                 1           17              2212   \n",
       "3                10                 0           10              2272   \n",
       "4                 6                 0            6              2369   \n",
       "\n",
       "   GROSS SQUARE FEET YEAR BUILT TAX CLASS AT TIME OF SALE  \\\n",
       "0               6440       1900                         2   \n",
       "1              18690       1900                         2   \n",
       "2               7803       1900                         2   \n",
       "3               6794       1913                         2   \n",
       "4               4615       1900                         2   \n",
       "\n",
       "   BUILDING CLASS AT TIME OF SALE  SALE PRICE            SALE DATE  \n",
       "0                              C2     6625000  2017-07-19 00:00:00  \n",
       "1                              C7         -    2016-12-14 00:00:00  \n",
       "2                              C7         -    2016-12-09 00:00:00  \n",
       "3                              C4     3936272  2016-09-23 00:00:00  \n",
       "4                              C2     8000000  2016-11-17 00:00:00  \n",
       "\n",
       "[5 rows x 22 columns]"
      ]
     },
     "execution_count": 24,
     "metadata": {},
     "output_type": "execute_result"
    }
   ],
   "source": [
    "#Loading the data\n",
    "data = pd.read_csv('nyc-rolling-sales.csv')\n",
    "data.head()"
   ]
  },
  {
   "cell_type": "code",
   "execution_count": 25,
   "id": "ae1a332e",
   "metadata": {},
   "outputs": [
    {
     "data": {
      "text/plain": [
       "(84548, 22)"
      ]
     },
     "execution_count": 25,
     "metadata": {},
     "output_type": "execute_result"
    }
   ],
   "source": [
    "data.shape"
   ]
  },
  {
   "cell_type": "code",
   "execution_count": 26,
   "id": "54d79727",
   "metadata": {},
   "outputs": [
    {
     "data": {
      "text/html": [
       "<div>\n",
       "<style scoped>\n",
       "    .dataframe tbody tr th:only-of-type {\n",
       "        vertical-align: middle;\n",
       "    }\n",
       "\n",
       "    .dataframe tbody tr th {\n",
       "        vertical-align: top;\n",
       "    }\n",
       "\n",
       "    .dataframe thead th {\n",
       "        text-align: right;\n",
       "    }\n",
       "</style>\n",
       "<table border=\"1\" class=\"dataframe\">\n",
       "  <thead>\n",
       "    <tr style=\"text-align: right;\">\n",
       "      <th></th>\n",
       "      <th>Unnamed: 0</th>\n",
       "      <th>BOROUGH</th>\n",
       "      <th>BLOCK</th>\n",
       "      <th>LOT</th>\n",
       "      <th>ZIP CODE</th>\n",
       "      <th>RESIDENTIAL UNITS</th>\n",
       "      <th>COMMERCIAL UNITS</th>\n",
       "      <th>TOTAL UNITS</th>\n",
       "      <th>YEAR BUILT</th>\n",
       "      <th>TAX CLASS AT TIME OF SALE</th>\n",
       "    </tr>\n",
       "  </thead>\n",
       "  <tbody>\n",
       "    <tr>\n",
       "      <th>count</th>\n",
       "      <td>84548.000000</td>\n",
       "      <td>84548.000000</td>\n",
       "      <td>84548.000000</td>\n",
       "      <td>84548.000000</td>\n",
       "      <td>84548.000000</td>\n",
       "      <td>84548.000000</td>\n",
       "      <td>84548.000000</td>\n",
       "      <td>84548.000000</td>\n",
       "      <td>84548.000000</td>\n",
       "      <td>84548.000000</td>\n",
       "    </tr>\n",
       "    <tr>\n",
       "      <th>mean</th>\n",
       "      <td>10344.359878</td>\n",
       "      <td>2.998758</td>\n",
       "      <td>4237.218976</td>\n",
       "      <td>376.224015</td>\n",
       "      <td>10731.991614</td>\n",
       "      <td>2.025264</td>\n",
       "      <td>0.193559</td>\n",
       "      <td>2.249184</td>\n",
       "      <td>1789.322976</td>\n",
       "      <td>1.657485</td>\n",
       "    </tr>\n",
       "    <tr>\n",
       "      <th>std</th>\n",
       "      <td>7151.779436</td>\n",
       "      <td>1.289790</td>\n",
       "      <td>3568.263407</td>\n",
       "      <td>658.136814</td>\n",
       "      <td>1290.879147</td>\n",
       "      <td>16.721037</td>\n",
       "      <td>8.713183</td>\n",
       "      <td>18.972584</td>\n",
       "      <td>537.344993</td>\n",
       "      <td>0.819341</td>\n",
       "    </tr>\n",
       "    <tr>\n",
       "      <th>min</th>\n",
       "      <td>4.000000</td>\n",
       "      <td>1.000000</td>\n",
       "      <td>1.000000</td>\n",
       "      <td>1.000000</td>\n",
       "      <td>0.000000</td>\n",
       "      <td>0.000000</td>\n",
       "      <td>0.000000</td>\n",
       "      <td>0.000000</td>\n",
       "      <td>0.000000</td>\n",
       "      <td>1.000000</td>\n",
       "    </tr>\n",
       "    <tr>\n",
       "      <th>25%</th>\n",
       "      <td>4231.000000</td>\n",
       "      <td>2.000000</td>\n",
       "      <td>1322.750000</td>\n",
       "      <td>22.000000</td>\n",
       "      <td>10305.000000</td>\n",
       "      <td>0.000000</td>\n",
       "      <td>0.000000</td>\n",
       "      <td>1.000000</td>\n",
       "      <td>1920.000000</td>\n",
       "      <td>1.000000</td>\n",
       "    </tr>\n",
       "    <tr>\n",
       "      <th>50%</th>\n",
       "      <td>8942.000000</td>\n",
       "      <td>3.000000</td>\n",
       "      <td>3311.000000</td>\n",
       "      <td>50.000000</td>\n",
       "      <td>11209.000000</td>\n",
       "      <td>1.000000</td>\n",
       "      <td>0.000000</td>\n",
       "      <td>1.000000</td>\n",
       "      <td>1940.000000</td>\n",
       "      <td>2.000000</td>\n",
       "    </tr>\n",
       "    <tr>\n",
       "      <th>75%</th>\n",
       "      <td>15987.250000</td>\n",
       "      <td>4.000000</td>\n",
       "      <td>6281.000000</td>\n",
       "      <td>1001.000000</td>\n",
       "      <td>11357.000000</td>\n",
       "      <td>2.000000</td>\n",
       "      <td>0.000000</td>\n",
       "      <td>2.000000</td>\n",
       "      <td>1965.000000</td>\n",
       "      <td>2.000000</td>\n",
       "    </tr>\n",
       "    <tr>\n",
       "      <th>max</th>\n",
       "      <td>26739.000000</td>\n",
       "      <td>5.000000</td>\n",
       "      <td>16322.000000</td>\n",
       "      <td>9106.000000</td>\n",
       "      <td>11694.000000</td>\n",
       "      <td>1844.000000</td>\n",
       "      <td>2261.000000</td>\n",
       "      <td>2261.000000</td>\n",
       "      <td>2017.000000</td>\n",
       "      <td>4.000000</td>\n",
       "    </tr>\n",
       "  </tbody>\n",
       "</table>\n",
       "</div>"
      ],
      "text/plain": [
       "         Unnamed: 0       BOROUGH         BLOCK           LOT      ZIP CODE  \\\n",
       "count  84548.000000  84548.000000  84548.000000  84548.000000  84548.000000   \n",
       "mean   10344.359878      2.998758   4237.218976    376.224015  10731.991614   \n",
       "std     7151.779436      1.289790   3568.263407    658.136814   1290.879147   \n",
       "min        4.000000      1.000000      1.000000      1.000000      0.000000   \n",
       "25%     4231.000000      2.000000   1322.750000     22.000000  10305.000000   \n",
       "50%     8942.000000      3.000000   3311.000000     50.000000  11209.000000   \n",
       "75%    15987.250000      4.000000   6281.000000   1001.000000  11357.000000   \n",
       "max    26739.000000      5.000000  16322.000000   9106.000000  11694.000000   \n",
       "\n",
       "       RESIDENTIAL UNITS  COMMERCIAL UNITS   TOTAL UNITS    YEAR BUILT  \\\n",
       "count       84548.000000      84548.000000  84548.000000  84548.000000   \n",
       "mean            2.025264          0.193559      2.249184   1789.322976   \n",
       "std            16.721037          8.713183     18.972584    537.344993   \n",
       "min             0.000000          0.000000      0.000000      0.000000   \n",
       "25%             0.000000          0.000000      1.000000   1920.000000   \n",
       "50%             1.000000          0.000000      1.000000   1940.000000   \n",
       "75%             2.000000          0.000000      2.000000   1965.000000   \n",
       "max          1844.000000       2261.000000   2261.000000   2017.000000   \n",
       "\n",
       "       TAX CLASS AT TIME OF SALE  \n",
       "count               84548.000000  \n",
       "mean                    1.657485  \n",
       "std                     0.819341  \n",
       "min                     1.000000  \n",
       "25%                     1.000000  \n",
       "50%                     2.000000  \n",
       "75%                     2.000000  \n",
       "max                     4.000000  "
      ]
     },
     "execution_count": 26,
     "metadata": {},
     "output_type": "execute_result"
    }
   ],
   "source": [
    "data.describe()"
   ]
  },
  {
   "cell_type": "markdown",
   "id": "ed08223c",
   "metadata": {},
   "source": [
    "The above result shows that some features such as 'SALE PRICE' is missing and also the min value for 'ZIP CODE' \n",
    "and 'YEAR BUILT' are zeros, which in these cases are missing values. Let's look at the data types of all the variables."
   ]
  },
  {
   "cell_type": "code",
   "execution_count": 27,
   "id": "02a77d1f",
   "metadata": {},
   "outputs": [
    {
     "data": {
      "text/plain": [
       "Unnamed: 0                         int64\n",
       "BOROUGH                            int64\n",
       "NEIGHBORHOOD                      object\n",
       "BUILDING CLASS CATEGORY           object\n",
       "TAX CLASS AT PRESENT              object\n",
       "BLOCK                              int64\n",
       "LOT                                int64\n",
       "EASE-MENT                         object\n",
       "BUILDING CLASS AT PRESENT         object\n",
       "ADDRESS                           object\n",
       "APARTMENT NUMBER                  object\n",
       "ZIP CODE                           int64\n",
       "RESIDENTIAL UNITS                  int64\n",
       "COMMERCIAL UNITS                   int64\n",
       "TOTAL UNITS                        int64\n",
       "LAND SQUARE FEET                  object\n",
       "GROSS SQUARE FEET                 object\n",
       "YEAR BUILT                         int64\n",
       "TAX CLASS AT TIME OF SALE          int64\n",
       "BUILDING CLASS AT TIME OF SALE    object\n",
       "SALE PRICE                        object\n",
       "SALE DATE                         object\n",
       "dtype: object"
      ]
     },
     "execution_count": 27,
     "metadata": {},
     "output_type": "execute_result"
    }
   ],
   "source": [
    "data.dtypes"
   ]
  },
  {
   "cell_type": "markdown",
   "id": "7cb57125",
   "metadata": {},
   "source": [
    "As suspected, variables 'SALE PRICE', 'LAND SQUARE FEET' and 'GROSS SQUARE FEET' are not listed as numerical data type. Whereas in the data, these variables have numerical values. Before proceeding further, the data types for these variables needs to be changed. "
   ]
  },
  {
   "cell_type": "code",
   "execution_count": 28,
   "id": "c673e0cf",
   "metadata": {},
   "outputs": [
    {
     "data": {
      "text/plain": [
       "Unnamed: 0                        0\n",
       "BOROUGH                           0\n",
       "NEIGHBORHOOD                      0\n",
       "BUILDING CLASS CATEGORY           0\n",
       "TAX CLASS AT PRESENT              0\n",
       "BLOCK                             0\n",
       "LOT                               0\n",
       "EASE-MENT                         0\n",
       "BUILDING CLASS AT PRESENT         0\n",
       "ADDRESS                           0\n",
       "APARTMENT NUMBER                  0\n",
       "ZIP CODE                          0\n",
       "RESIDENTIAL UNITS                 0\n",
       "COMMERCIAL UNITS                  0\n",
       "TOTAL UNITS                       0\n",
       "LAND SQUARE FEET                  0\n",
       "GROSS SQUARE FEET                 0\n",
       "YEAR BUILT                        0\n",
       "TAX CLASS AT TIME OF SALE         0\n",
       "BUILDING CLASS AT TIME OF SALE    0\n",
       "SALE PRICE                        0\n",
       "SALE DATE                         0\n",
       "dtype: int64"
      ]
     },
     "execution_count": 28,
     "metadata": {},
     "output_type": "execute_result"
    }
   ],
   "source": [
    "# Checking for null values\n",
    "data.isnull().sum()"
   ]
  },
  {
   "cell_type": "markdown",
   "id": "55483bb7",
   "metadata": {},
   "source": [
    "There are no null values in the data but as noted before there are missing values in the data (as zeros) so the data needs to be checked for missing values. Before that let's change the data types of the three numerical variables."
   ]
  },
  {
   "cell_type": "code",
   "execution_count": 29,
   "id": "752645e9",
   "metadata": {},
   "outputs": [],
   "source": [
    "# Function to change the data type. It takes a list of variables and the data type to which they have to be changed.\n",
    "# It captures any errors in the process and prints the error message\n",
    "\n",
    "def chng_dtype(feature_list, dtype): \n",
    "    for i in feature_list:\n",
    "        try:\n",
    "            data[i] = data[i].astype(dtype)\n",
    "        except ValueError as ve:\n",
    "            err = str(ve)\n",
    "            char = err.partition(':')[2]\n",
    "            print ('{} cannot be converted to int as it has characters {}'.format(i,char)) "
   ]
  },
  {
   "cell_type": "code",
   "execution_count": 30,
   "id": "9b32572e",
   "metadata": {},
   "outputs": [],
   "source": [
    "#list of variables that need a change of data type\n",
    "fetrs = ['LAND SQUARE FEET', 'GROSS SQUARE FEET', 'SALE PRICE']"
   ]
  },
  {
   "cell_type": "code",
   "execution_count": 31,
   "id": "52d075f4",
   "metadata": {},
   "outputs": [
    {
     "name": "stdout",
     "output_type": "stream",
     "text": [
      "LAND SQUARE FEET cannot be converted to int as it has characters  ' -  '\n",
      "GROSS SQUARE FEET cannot be converted to int as it has characters  ' -  '\n",
      "SALE PRICE cannot be converted to int as it has characters  ' -  '\n"
     ]
    }
   ],
   "source": [
    "#Using the chng_dtype function on the above list\n",
    "chng_dtype(fetrs, int)"
   ]
  },
  {
   "cell_type": "markdown",
   "id": "c3d09fd2",
   "metadata": {},
   "source": [
    "All the three variables have missing values in the form of ' - '. "
   ]
  },
  {
   "cell_type": "code",
   "execution_count": 32,
   "id": "07f2981b",
   "metadata": {},
   "outputs": [],
   "source": [
    "#Replacing these missing values with NaN\n",
    "err =  ' -  '\n",
    "for i in fetrs: \n",
    "    ser = data[i].replace(err, np.nan)\n",
    "    data[i] = pd.to_numeric(ser)"
   ]
  },
  {
   "cell_type": "code",
   "execution_count": 33,
   "id": "81717db3",
   "metadata": {},
   "outputs": [
    {
     "data": {
      "text/plain": [
       "Unnamed: 0                            0\n",
       "BOROUGH                               0\n",
       "NEIGHBORHOOD                          0\n",
       "BUILDING CLASS CATEGORY               0\n",
       "TAX CLASS AT PRESENT                  0\n",
       "BLOCK                                 0\n",
       "LOT                                   0\n",
       "EASE-MENT                             0\n",
       "BUILDING CLASS AT PRESENT             0\n",
       "ADDRESS                               0\n",
       "APARTMENT NUMBER                      0\n",
       "ZIP CODE                              0\n",
       "RESIDENTIAL UNITS                     0\n",
       "COMMERCIAL UNITS                      0\n",
       "TOTAL UNITS                           0\n",
       "LAND SQUARE FEET                  26252\n",
       "GROSS SQUARE FEET                 27612\n",
       "YEAR BUILT                            0\n",
       "TAX CLASS AT TIME OF SALE             0\n",
       "BUILDING CLASS AT TIME OF SALE        0\n",
       "SALE PRICE                        14561\n",
       "SALE DATE                             0\n",
       "dtype: int64"
      ]
     },
     "execution_count": 33,
     "metadata": {},
     "output_type": "execute_result"
    }
   ],
   "source": [
    "data.isnull().sum()"
   ]
  },
  {
   "cell_type": "markdown",
   "id": "c957183e",
   "metadata": {},
   "source": [
    "### Data Visualization"
   ]
  },
  {
   "cell_type": "code",
   "execution_count": 34,
   "id": "7a511d83",
   "metadata": {},
   "outputs": [],
   "source": [
    "# Extracting the numerical features to plot against the target variable\n",
    "num = data.dtypes == 'int'\n",
    "flt = data.dtypes == 'float'\n",
    "num_ftrs = list(num[num].index)\n",
    "num_ftrs.extend(list(flt[flt].index))\n",
    "num_ftrs.remove('SALE PRICE')"
   ]
  },
  {
   "cell_type": "code",
   "execution_count": 35,
   "id": "1475d3ce",
   "metadata": {},
   "outputs": [],
   "source": [
    "plot_dep = data.drop('SALE PRICE', axis=1)\n",
    "plot_indep = data['SALE PRICE']"
   ]
  },
  {
   "cell_type": "code",
   "execution_count": 36,
   "id": "ef8f0de9",
   "metadata": {},
   "outputs": [
    {
     "data": {
      "image/png": "[encoded data removed]",
      "text/plain": [
       "<Figure size 1008x1152 with 12 Axes>"
      ]
     },
     "metadata": {
      "needs_background": "light"
     },
     "output_type": "display_data"
    }
   ],
   "source": [
    "a = 4  # number of rows\n",
    "b = 4  # number of columns\n",
    "c = 1  # initialize plot counter\n",
    "\n",
    "fig = plt.figure(figsize = (14, 16))\n",
    "\n",
    "for i in num_ftrs : \n",
    "    plt.subplot(a,b,c)\n",
    "    plt.scatter(plot_dep[i], plot_indep)\n",
    "    plt.xlabel(i)\n",
    "    plt.ylabel('Sale price')\n",
    "    c = c +1 \n",
    "fig.tight_layout()\n",
    "plt.show()"
   ]
  },
  {
   "cell_type": "markdown",
   "id": "8e54241e",
   "metadata": {},
   "source": [
    "From the above plots, it can be seen that there a few outliers in the target variable (over 0.5e9). There are also missing values (0) in 'ZIP CODE', 'YEAR BUILT' and 'SALE PRICE'. The target variable remains independent(flat) w.r.t 'Unnamed:0', 'BLOCK' and 'LOT'. Also it can be seen that although listed as numerical, 'BOROUGH', 'ZIP CODE', 'YEAT BUILT' and 'TAX CLASS AT TIME OF SALE' are categorical by nature. Before proceeding further lets look if there are any correlations between the data features using a heatmap. "
   ]
  },
  {
   "cell_type": "code",
   "execution_count": 37,
   "id": "27c581a4",
   "metadata": {},
   "outputs": [
    {
     "data": {
      "image/png": "[encoded data removed]",
      "text/plain": [
       "<Figure size 864x720 with 2 Axes>"
      ]
     },
     "metadata": {
      "needs_background": "light"
     },
     "output_type": "display_data"
    }
   ],
   "source": [
    "plt.figure(figsize=(12,10))\n",
    "cor = data.corr()\n",
    "sns.heatmap(cor, annot=True, cmap=plt.cm.Reds)\n",
    "plt.show()"
   ]
  },
  {
   "cell_type": "markdown",
   "id": "80450609",
   "metadata": {},
   "source": [
    "The correlation matrix shows that the sale price has correlation with gross square feet area, larger the area. higher the sale price. Gross square feet area itself is correlated to residential units, total units and land sqaure feet. Residential units is highly correlated to total units. As expected the geographical location features such as borough, zip code, lot and block are correlated to each other."
   ]
  },
  {
   "cell_type": "markdown",
   "id": "d40d48ab",
   "metadata": {},
   "source": [
    "### Data preprocessing"
   ]
  },
  {
   "cell_type": "code",
   "execution_count": 38,
   "id": "217106eb",
   "metadata": {},
   "outputs": [
    {
     "data": {
      "text/plain": [
       "(48244, 22)"
      ]
     },
     "execution_count": 38,
     "metadata": {},
     "output_type": "execute_result"
    }
   ],
   "source": [
    "# Dropping the rows with nan values \n",
    "\n",
    "data.dropna(axis=0, inplace=True)\n",
    "data.shape"
   ]
  },
  {
   "cell_type": "code",
   "execution_count": 39,
   "id": "4421e138",
   "metadata": {},
   "outputs": [
    {
     "data": {
      "text/plain": [
       "(45308, 22)"
      ]
     },
     "execution_count": 39,
     "metadata": {},
     "output_type": "execute_result"
    }
   ],
   "source": [
    "# Removing the outliers\n",
    "\n",
    "data = data.loc[data['SALE PRICE'] < 0.5e9]\n",
    "data = data[data['YEAR BUILT'] > 1500]\n",
    "data = data[data['ZIP CODE'] != 0]\n",
    "data = data[data['RESIDENTIAL UNITS'] < 1000]\n",
    "data = data[data['COMMERCIAL UNITS'] < 500]\n",
    "data = data[data['TOTAL UNITS'] < 1000]\n",
    "data = data[data['LAND SQUARE FEET'] < 2e6]\n",
    "data = data[data['GROSS SQUARE FEET'] < 2e6]\n",
    "data.shape"
   ]
  },
  {
   "cell_type": "code",
   "execution_count": 40,
   "id": "c48fe79a",
   "metadata": {},
   "outputs": [
    {
     "name": "stdout",
     "output_type": "stream",
     "text": [
      "Unnamed: 0 has 0 missing values as 0\n",
      "BOROUGH has 0 missing values as 0\n",
      "BLOCK has 0 missing values as 0\n",
      "LOT has 0 missing values as 0\n",
      "ZIP CODE has 0 missing values as 0\n",
      "RESIDENTIAL UNITS has 6478 missing values as 0\n",
      "COMMERCIAL UNITS has 41310 missing values as 0\n",
      "TOTAL UNITS has 3905 missing values as 0\n",
      "YEAR BUILT has 0 missing values as 0\n",
      "TAX CLASS AT TIME OF SALE has 0 missing values as 0\n",
      "LAND SQUARE FEET has 8345 missing values as 0\n",
      "GROSS SQUARE FEET has 8518 missing values as 0\n"
     ]
    }
   ],
   "source": [
    "# Checking for more missing values \n",
    "for i in num_ftrs : \n",
    "    print('{} has {} missing values as 0'.format(i, len(data[data[i] == 0]))) "
   ]
  },
  {
   "cell_type": "markdown",
   "id": "5fca7546",
   "metadata": {},
   "source": [
    "Most values for 'COMMERCIAL UNITS' are missing variable and hence it can dropped from the analysis. "
   ]
  },
  {
   "cell_type": "code",
   "execution_count": 41,
   "id": "47d1bc3a",
   "metadata": {},
   "outputs": [],
   "source": [
    "data.drop('COMMERCIAL UNITS', axis=1, inplace=True)"
   ]
  },
  {
   "cell_type": "code",
   "execution_count": 42,
   "id": "0efda13a",
   "metadata": {},
   "outputs": [
    {
     "data": {
      "text/plain": [
       "9145"
      ]
     },
     "execution_count": 42,
     "metadata": {},
     "output_type": "execute_result"
    }
   ],
   "source": [
    "# Checking for missing values in Sale price\n",
    "len(data[data['SALE PRICE'] == 0])"
   ]
  },
  {
   "cell_type": "code",
   "execution_count": 43,
   "id": "1a70d80e",
   "metadata": {},
   "outputs": [],
   "source": [
    "# Imputing missing values with mean\n",
    "\n",
    "imp_ftrs =  ['RESIDENTIAL UNITS', 'TOTAL UNITS', 'LAND SQUARE FEET', 'GROSS SQUARE FEET', 'SALE PRICE' ]\n",
    "imputer = SimpleImputer(missing_values=0, strategy='mean')\n",
    "imputer = imputer.fit(data[imp_ftrs])\n",
    "data[imp_ftrs] = imputer.transform(data[imp_ftrs])"
   ]
  },
  {
   "cell_type": "code",
   "execution_count": 45,
   "id": "5ae4cea9",
   "metadata": {},
   "outputs": [],
   "source": [
    "# Dropping the variables that are categorical in nature\n",
    "data.drop(columns=['Unnamed: 0','BOROUGH', 'ZIP CODE','YEAR BUILT','BLOCK', 'LOT', 'TAX CLASS AT TIME OF SALE'], inplace=True)"
   ]
  },
  {
   "cell_type": "markdown",
   "id": "6d0838eb",
   "metadata": {},
   "source": [
    "### Modeling"
   ]
  },
  {
   "cell_type": "markdown",
   "id": "6613aa43",
   "metadata": {},
   "source": [
    "Generating the input to the models with relevant features"
   ]
  },
  {
   "cell_type": "code",
   "execution_count": 47,
   "id": "abf67855",
   "metadata": {},
   "outputs": [],
   "source": [
    "X = data.drop(columns=[\"NEIGHBORHOOD\", 'BUILDING CLASS CATEGORY','TAX CLASS AT PRESENT','EASE-MENT',\n",
    " 'BUILDING CLASS AT PRESENT','ADDRESS', 'APARTMENT NUMBER', 'BUILDING CLASS AT TIME OF SALE','SALE DATE'], axis=1)\n",
    "y = data['SALE PRICE']"
   ]
  },
  {
   "cell_type": "code",
   "execution_count": 55,
   "id": "4b2bf6fa",
   "metadata": {},
   "outputs": [],
   "source": [
    "# SPlitting the data into train and test\n",
    "X_train, X_test, y_train, y_test = train_test_split(X, y)"
   ]
  },
  {
   "cell_type": "markdown",
   "id": "5aa51d6d",
   "metadata": {},
   "source": [
    "Here we are using three different regression models, Linear, Ridge and Lasso to model the data and evaluate using the score feature of the models"
   ]
  },
  {
   "cell_type": "code",
   "execution_count": 49,
   "id": "22ac43dd",
   "metadata": {},
   "outputs": [
    {
     "name": "stdout",
     "output_type": "stream",
     "text": [
      "1.0\n",
      "1.0\n"
     ]
    }
   ],
   "source": [
    "from sklearn.pipeline import make_pipeline\n",
    "pipe1 = make_pipeline(StandardScaler(), LinearRegression())\n",
    "pipe1.fit(X_train, y_train)\n",
    "print(pipe1.score(X_train, y_train))\n",
    "print(pipe1.score(X_test, y_test))"
   ]
  },
  {
   "cell_type": "code",
   "execution_count": 50,
   "id": "8ed63a93",
   "metadata": {
    "scrolled": true
   },
   "outputs": [
    {
     "name": "stdout",
     "output_type": "stream",
     "text": [
      "0.9999999989133538\n",
      "0.9999999986628075\n"
     ]
    }
   ],
   "source": [
    "pipe2 = make_pipeline(StandardScaler(), Ridge())\n",
    "pipe2.fit(X_train, y_train)\n",
    "print(pipe2.score(X_train, y_train))\n",
    "print(pipe2.score(X_test, y_test))"
   ]
  },
  {
   "cell_type": "code",
   "execution_count": 57,
   "id": "748cb069",
   "metadata": {},
   "outputs": [
    {
     "name": "stdout",
     "output_type": "stream",
     "text": [
      "0.9999998768285258\n",
      "0.9999999834418861\n"
     ]
    }
   ],
   "source": [
    "pipe3 = make_pipeline(StandardScaler(), Lasso())\n",
    "pipe3.fit(X_train, y_train)\n",
    "print(pipe3.score(X_train, y_train))\n",
    "print(pipe3.score(X_test, y_test))"
   ]
  },
  {
   "cell_type": "markdown",
   "id": "0b5ead93",
   "metadata": {},
   "source": [
    "### Conclusion"
   ]
  },
  {
   "cell_type": "markdown",
   "id": "ed997bc9",
   "metadata": {},
   "source": [
    "The NYC real estate data has been analysed and cleaned before building a model for sale price prediction. The data had a lot of missing values in the form of characters and 0s. Some unavailable data has been imputed with the mean value of that variable. The data also consisted of more categorical variables than numerical variables. For this analysis and modeling only numerical variables were used. The price prediction was achieved by using three different regression models from sci kit learn: Linear, Ridge and Lasso. The model functioning in prediction of the price was evaluated using the 'score' of each model. The score from each model was an almost perfect result, which is '1'. This means the sale price was predicted without any error. This is not a realistic outcome as in real life there is always some error induced through one or other factor. The reason for this perfect score could be a simplistic model, we had built a simple model using very few independent variables. Going further, this model can be made more realistic by introducing the categorical variables for model building.  "
   ]
  }
 ],
 "metadata": {
  "kernelspec": {
   "display_name": "Python 3 (ipykernel)",
   "language": "python",
   "name": "python3"
  },
  "language_info": {
   "codemirror_mode": {
    "name": "ipython",
    "version": 3
   },
   "file_extension": ".py",
   "mimetype": "text/x-python",
   "name": "python",
   "nbconvert_exporter": "python",
   "pygments_lexer": "ipython3",
   "version": "3.9.12"
  }
 },
 "nbformat": 4,
 "nbformat_minor": 5
}
