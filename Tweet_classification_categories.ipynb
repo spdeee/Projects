{
 "cells": [
  {
   "cell_type": "markdown",
   "id": "52493e08",
   "metadata": {},
   "source": [
    "<h1 style='text-align: center;'> Independent Natural Language Processing Project 2 </h1> \n",
    "<h3 style='text-align: center;'> By Sri Das </h3>"
   ]
  },
  {
   "cell_type": "markdown",
   "id": "06a760f3",
   "metadata": {},
   "source": [
    "<h2 style='text-align: center;'> Twitter data classification </h2>"
   ]
  },
  {
   "cell_type": "markdown",
   "id": "16cb0e13",
   "metadata": {},
   "source": [
    "### Importing packages"
   ]
  },
  {
   "cell_type": "code",
   "execution_count": 1,
   "id": "0f9427a5",
   "metadata": {},
   "outputs": [],
   "source": [
    "# Generic \n",
    "\n",
    "import pandas as pd\n",
    "import numpy as np\n",
    "import seaborn as sns\n",
    "import matplotlib.pyplot as plt"
   ]
  },
  {
   "cell_type": "code",
   "execution_count": 2,
   "id": "dd1cc385",
   "metadata": {},
   "outputs": [],
   "source": [
    "# NLP packages\n",
    "\n",
    "import re, string\n",
    "import nltk\n",
    "from nltk.corpus import stopwords\n",
    "from nltk.tokenize import word_tokenize\n",
    "from nltk.stem import SnowballStemmer\n",
    "from nltk.corpus import wordnet\n",
    "from nltk.stem import WordNetLemmatizer\n",
    "from sklearn.feature_extraction.text import TfidfVectorizer, CountVectorizer"
   ]
  },
  {
   "cell_type": "code",
   "execution_count": 117,
   "id": "9332ca8b",
   "metadata": {},
   "outputs": [],
   "source": [
    "# Modeling related packages\n",
    "\n",
    "from sklearn.model_selection import train_test_split, StratifiedKFold, GridSearchCV, RandomizedSearchCV\n",
    "from sklearn.linear_model import LogisticRegression\n",
    "from sklearn.naive_bayes import MultinomialNB\n",
    "from sklearn.metrics import classification_report, f1_score, accuracy_score, confusion_matrix\n",
    "from sklearn.metrics import roc_curve, auc, roc_auc_score, precision_score, recall_score \n",
    "from sklearn.pipeline import Pipeline\n",
    "from imblearn.pipeline import make_pipeline\n",
    "from imblearn.over_sampling import ADASYN, SMOTE, RandomOverSampler\n",
    "from imblearn.under_sampling import RandomUnderSampler\n",
    "from sklearn.ensemble import RandomForestClassifier\n",
    "import xgboost as xgb"
   ]
  },
  {
   "cell_type": "markdown",
   "id": "16fb5d70",
   "metadata": {},
   "source": [
    "### Loading and exploring data"
   ]
  },
  {
   "cell_type": "code",
   "execution_count": 4,
   "id": "7a64aff2",
   "metadata": {},
   "outputs": [],
   "source": [
    "data = pd.read_csv('tweet_data.csv')"
   ]
  },
  {
   "cell_type": "code",
   "execution_count": 5,
   "id": "5986658e",
   "metadata": {},
   "outputs": [
    {
     "data": {
      "text/html": [
       "<div>\n",
       "<style scoped>\n",
       "    .dataframe tbody tr th:only-of-type {\n",
       "        vertical-align: middle;\n",
       "    }\n",
       "\n",
       "    .dataframe tbody tr th {\n",
       "        vertical-align: top;\n",
       "    }\n",
       "\n",
       "    .dataframe thead th {\n",
       "        text-align: right;\n",
       "    }\n",
       "</style>\n",
       "<table border=\"1\" class=\"dataframe\">\n",
       "  <thead>\n",
       "    <tr style=\"text-align: right;\">\n",
       "      <th></th>\n",
       "      <th>tweetID</th>\n",
       "      <th>crDate</th>\n",
       "      <th>edInput</th>\n",
       "      <th>editor</th>\n",
       "      <th>engages</th>\n",
       "      <th>isApproved</th>\n",
       "      <th>isEdNeed</th>\n",
       "      <th>isRT</th>\n",
       "      <th>likes</th>\n",
       "      <th>photoUrl</th>\n",
       "      <th>retweets</th>\n",
       "      <th>rtUsID</th>\n",
       "      <th>text</th>\n",
       "      <th>topicName</th>\n",
       "      <th>usFlwrs</th>\n",
       "      <th>usID</th>\n",
       "      <th>usName</th>\n",
       "      <th>videoUrl</th>\n",
       "    </tr>\n",
       "  </thead>\n",
       "  <tbody>\n",
       "    <tr>\n",
       "      <th>0</th>\n",
       "      <td>1070867471245164544</td>\n",
       "      <td>2018-12-07 02:27:55</td>\n",
       "      <td>-1</td>\n",
       "      <td>-1</td>\n",
       "      <td>98</td>\n",
       "      <td>False</td>\n",
       "      <td>True</td>\n",
       "      <td>False</td>\n",
       "      <td>64</td>\n",
       "      <td>https://pbs.twimg.com/media/Dtx8SiIWkAImVsb.jpg</td>\n",
       "      <td>34</td>\n",
       "      <td>-1</td>\n",
       "      <td>The immediate impulse for an alliance of the E...</td>\n",
       "      <td>Business</td>\n",
       "      <td>23464532</td>\n",
       "      <td>5988062</td>\n",
       "      <td>The Economist</td>\n",
       "      <td>NaN</td>\n",
       "    </tr>\n",
       "    <tr>\n",
       "      <th>1</th>\n",
       "      <td>1070868017888837633</td>\n",
       "      <td>2018-12-07 02:30:05</td>\n",
       "      <td>-1</td>\n",
       "      <td>-1</td>\n",
       "      <td>13</td>\n",
       "      <td>False</td>\n",
       "      <td>True</td>\n",
       "      <td>False</td>\n",
       "      <td>10</td>\n",
       "      <td>https://pbs.twimg.com/media/Dtx8yTyW4AEciqP.jpg</td>\n",
       "      <td>3</td>\n",
       "      <td>-1</td>\n",
       "      <td>America's economy is flashing some warning sig...</td>\n",
       "      <td>Business</td>\n",
       "      <td>1732809</td>\n",
       "      <td>16184358</td>\n",
       "      <td>CNN Business</td>\n",
       "      <td>NaN</td>\n",
       "    </tr>\n",
       "    <tr>\n",
       "      <th>2</th>\n",
       "      <td>1070868012864028673</td>\n",
       "      <td>2018-12-07 02:30:04</td>\n",
       "      <td>-1</td>\n",
       "      <td>-1</td>\n",
       "      <td>12</td>\n",
       "      <td>False</td>\n",
       "      <td>True</td>\n",
       "      <td>False</td>\n",
       "      <td>8</td>\n",
       "      <td>NaN</td>\n",
       "      <td>4</td>\n",
       "      <td>-1</td>\n",
       "      <td>Lyft files for what is expected to be one of t...</td>\n",
       "      <td>Business</td>\n",
       "      <td>2253989</td>\n",
       "      <td>25053299</td>\n",
       "      <td>FORTUNE</td>\n",
       "      <td>NaN</td>\n",
       "    </tr>\n",
       "    <tr>\n",
       "      <th>3</th>\n",
       "      <td>1070867995239555075</td>\n",
       "      <td>2018-12-07 02:30:00</td>\n",
       "      <td>-1</td>\n",
       "      <td>-1</td>\n",
       "      <td>5</td>\n",
       "      <td>False</td>\n",
       "      <td>True</td>\n",
       "      <td>False</td>\n",
       "      <td>4</td>\n",
       "      <td>NaN</td>\n",
       "      <td>1</td>\n",
       "      <td>-1</td>\n",
       "      <td>Exporters still waiting to get Rs 6,000 crore ...</td>\n",
       "      <td>Business</td>\n",
       "      <td>1704056</td>\n",
       "      <td>43855487</td>\n",
       "      <td>Business Standard</td>\n",
       "      <td>NaN</td>\n",
       "    </tr>\n",
       "    <tr>\n",
       "      <th>4</th>\n",
       "      <td>1070867995205885952</td>\n",
       "      <td>2018-12-07 02:30:00</td>\n",
       "      <td>-1</td>\n",
       "      <td>-1</td>\n",
       "      <td>5</td>\n",
       "      <td>False</td>\n",
       "      <td>True</td>\n",
       "      <td>False</td>\n",
       "      <td>2</td>\n",
       "      <td>NaN</td>\n",
       "      <td>3</td>\n",
       "      <td>-1</td>\n",
       "      <td>Ride-hailing firm Lyft races to leave Uber beh...</td>\n",
       "      <td>Business</td>\n",
       "      <td>1997662</td>\n",
       "      <td>15110357</td>\n",
       "      <td>Reuters Business</td>\n",
       "      <td>https://video.twimg.com/amplify_video/10708116...</td>\n",
       "    </tr>\n",
       "  </tbody>\n",
       "</table>\n",
       "</div>"
      ],
      "text/plain": [
       "               tweetID               crDate  edInput  editor  engages  \\\n",
       "0  1070867471245164544  2018-12-07 02:27:55       -1      -1       98   \n",
       "1  1070868017888837633  2018-12-07 02:30:05       -1      -1       13   \n",
       "2  1070868012864028673  2018-12-07 02:30:04       -1      -1       12   \n",
       "3  1070867995239555075  2018-12-07 02:30:00       -1      -1        5   \n",
       "4  1070867995205885952  2018-12-07 02:30:00       -1      -1        5   \n",
       "\n",
       "   isApproved  isEdNeed   isRT  likes  \\\n",
       "0       False      True  False     64   \n",
       "1       False      True  False     10   \n",
       "2       False      True  False      8   \n",
       "3       False      True  False      4   \n",
       "4       False      True  False      2   \n",
       "\n",
       "                                          photoUrl  retweets  rtUsID  \\\n",
       "0  https://pbs.twimg.com/media/Dtx8SiIWkAImVsb.jpg        34      -1   \n",
       "1  https://pbs.twimg.com/media/Dtx8yTyW4AEciqP.jpg         3      -1   \n",
       "2                                              NaN         4      -1   \n",
       "3                                              NaN         1      -1   \n",
       "4                                              NaN         3      -1   \n",
       "\n",
       "                                                text topicName   usFlwrs  \\\n",
       "0  The immediate impulse for an alliance of the E...  Business  23464532   \n",
       "1  America's economy is flashing some warning sig...  Business   1732809   \n",
       "2  Lyft files for what is expected to be one of t...  Business   2253989   \n",
       "3  Exporters still waiting to get Rs 6,000 crore ...  Business   1704056   \n",
       "4  Ride-hailing firm Lyft races to leave Uber beh...  Business   1997662   \n",
       "\n",
       "       usID             usName  \\\n",
       "0   5988062      The Economist   \n",
       "1  16184358       CNN Business   \n",
       "2  25053299            FORTUNE   \n",
       "3  43855487  Business Standard   \n",
       "4  15110357   Reuters Business   \n",
       "\n",
       "                                            videoUrl  \n",
       "0                                                NaN  \n",
       "1                                                NaN  \n",
       "2                                                NaN  \n",
       "3                                                NaN  \n",
       "4  https://video.twimg.com/amplify_video/10708116...  "
      ]
     },
     "execution_count": 5,
     "metadata": {},
     "output_type": "execute_result"
    }
   ],
   "source": [
    "data.head()"
   ]
  },
  {
   "cell_type": "code",
   "execution_count": 6,
   "id": "f51647ff",
   "metadata": {},
   "outputs": [
    {
     "data": {
      "text/plain": [
       "(785916, 18)"
      ]
     },
     "execution_count": 6,
     "metadata": {},
     "output_type": "execute_result"
    }
   ],
   "source": [
    "data.shape"
   ]
  },
  {
   "cell_type": "markdown",
   "id": "7ce63df5",
   "metadata": {},
   "source": [
    "Checking and removing null values"
   ]
  },
  {
   "cell_type": "code",
   "execution_count": 7,
   "id": "b17c7c8c",
   "metadata": {},
   "outputs": [
    {
     "data": {
      "text/plain": [
       "tweetID            0\n",
       "crDate             0\n",
       "edInput            0\n",
       "editor             0\n",
       "engages            0\n",
       "isApproved         0\n",
       "isEdNeed           0\n",
       "isRT               0\n",
       "likes              0\n",
       "photoUrl      508020\n",
       "retweets           0\n",
       "rtUsID             0\n",
       "text               0\n",
       "topicName          0\n",
       "usFlwrs            0\n",
       "usID               0\n",
       "usName             0\n",
       "videoUrl      645425\n",
       "dtype: int64"
      ]
     },
     "execution_count": 7,
     "metadata": {},
     "output_type": "execute_result"
    }
   ],
   "source": [
    "data.isna().sum()"
   ]
  },
  {
   "cell_type": "markdown",
   "id": "b859c05f",
   "metadata": {},
   "source": [
    "Most entries of features 'photourl' and 'videourl' are null values, so removing these columns from the data"
   ]
  },
  {
   "cell_type": "code",
   "execution_count": 7,
   "id": "69b02b66",
   "metadata": {},
   "outputs": [],
   "source": [
    "data.dropna(axis='columns', inplace=True)"
   ]
  },
  {
   "cell_type": "markdown",
   "id": "cc752d98",
   "metadata": {},
   "source": [
    "The description of data mentioned that a value of 1 for 'edInput' indicate correct classification of the data and 'edInput' value of 2 is incorrect classification of the data. So slicing the data based on these two values for further analysis. We will use text of the tweet as a feature and the 'topicName' as target variable. "
   ]
  },
  {
   "cell_type": "code",
   "execution_count": 8,
   "id": "22820303",
   "metadata": {},
   "outputs": [],
   "source": [
    "data_1 = (data[(data['edInput'] == 1) | (data['edInput'] == 2)]).copy(deep=True)"
   ]
  },
  {
   "cell_type": "code",
   "execution_count": 9,
   "id": "2b4700d6",
   "metadata": {},
   "outputs": [],
   "source": [
    "data_1.reset_index(drop=True, inplace=True)"
   ]
  },
  {
   "cell_type": "markdown",
   "id": "5aeeca48",
   "metadata": {},
   "source": [
    "Mapping the 'topicName' to variable 'target' with numbers. 'target' is assigned 1 if topic of the tweet is 'Business' else it is assigned a 0."
   ]
  },
  {
   "cell_type": "code",
   "execution_count": 10,
   "id": "089befc4",
   "metadata": {},
   "outputs": [],
   "source": [
    "data_1['target'] = 0\n",
    "data_1.loc[data_1.topicName == 'Business', 'target'] = 1"
   ]
  },
  {
   "cell_type": "code",
   "execution_count": 11,
   "id": "1419384c",
   "metadata": {},
   "outputs": [
    {
     "name": "stdout",
     "output_type": "stream",
     "text": [
      "The number of tweets related to the topic 'Business' are 30024 and rest of the topics are 292294\n"
     ]
    },
    {
     "data": {
      "image/png": "[encoded data removed]",
      "text/plain": [
       "<Figure size 864x504 with 1 Axes>"
      ]
     },
     "metadata": {
      "needs_background": "light"
     },
     "output_type": "display_data"
    }
   ],
   "source": [
    "# Plotting the target values \n",
    "\n",
    "tar = data_1['target'].value_counts()\n",
    "plt.figure(figsize = (12, 7))\n",
    "plt.title('Value counts of target variable')\n",
    "sns.barplot(x=tar.index, y=tar)\n",
    "plt.xticks(rotation=90);\n",
    "\n",
    "print(\"The number of tweets related to the topic 'Business' are {} and rest of the topics are {}\".format(tar[1], tar[0]))"
   ]
  },
  {
   "cell_type": "markdown",
   "id": "1043ddc5",
   "metadata": {},
   "source": [
    "The above figure shows that the data is heavily imbalanced, as business related tweets are about 9% of our dataset. Any model we build to classify the tweets will be biased due to this disparity. Techniques to circumvent the effects of imbalanced data and also the metrics we can use to assess the model performance will be discussed later"
   ]
  },
  {
   "cell_type": "markdown",
   "id": "149a35cd",
   "metadata": {},
   "source": [
    "#### Word count of the tweets"
   ]
  },
  {
   "cell_type": "code",
   "execution_count": 12,
   "id": "eee62532",
   "metadata": {},
   "outputs": [
    {
     "name": "stdout",
     "output_type": "stream",
     "text": [
      "Average word count of Business tweeets: 17.640420996536104\n",
      "Average word count of Non-business tweeets: 18.32886066768391\n"
     ]
    }
   ],
   "source": [
    "data_1['word_count'] = data_1['text'].apply(lambda x: len(str(x).split()))\n",
    "print('Average word count of Business tweeets:', data_1.loc[data_1.target==1]['word_count'].mean()) \n",
    "print('Average word count of Non-business tweeets:',data_1.loc[data_1.target ==0]['word_count'].mean())"
   ]
  },
  {
   "cell_type": "code",
   "execution_count": 13,
   "id": "87f86181",
   "metadata": {},
   "outputs": [
    {
     "data": {
      "image/png": "[encoded data removed]",
      "text/plain": [
       "<Figure size 720x288 with 2 Axes>"
      ]
     },
     "metadata": {
      "needs_background": "light"
     },
     "output_type": "display_data"
    }
   ],
   "source": [
    "# Plotting word count of both classes\n",
    "\n",
    "fig,(ax1,ax2)=plt.subplots(1,2,figsize=(10,4))\n",
    "bus_words=data_1[data_1['target']==1]['word_count']\n",
    "ax1.hist(bus_words,color='red')\n",
    "ax1.set_title('Business tweets')\n",
    "nbus_words=data_1[data_1['target']==0]['word_count']\n",
    "ax2.hist(nbus_words,color='green')\n",
    "ax2.set_title('Non business tweets')\n",
    "fig.suptitle('Words per tweet')\n",
    "plt.show()"
   ]
  },
  {
   "cell_type": "markdown",
   "id": "13ddc111",
   "metadata": {},
   "source": [
    "#### Character count of the tweets"
   ]
  },
  {
   "cell_type": "code",
   "execution_count": 14,
   "id": "6d9bd142",
   "metadata": {},
   "outputs": [
    {
     "name": "stdout",
     "output_type": "stream",
     "text": [
      "Average character count in Business tweets: 125.59405808686384\n",
      "Average character count in Non-business tweets: 132.5709217431764\n"
     ]
    }
   ],
   "source": [
    "data_1['char_count'] = data_1['text'].apply(lambda x: len(str(x)))\n",
    "print('Average character count in Business tweets:',data_1[data_1['target']==1]['char_count'].mean()) \n",
    "print('Average character count in Non-business tweets:', data_1[data_1['target']==0]['char_count'].mean()) #Non-Business tweets"
   ]
  },
  {
   "cell_type": "markdown",
   "id": "a712566d",
   "metadata": {},
   "source": [
    "The average word and character count of business related tweets are smaller than the non-business related tweets. Let's look at the box plot of the character count of the tweets. "
   ]
  },
  {
   "cell_type": "code",
   "execution_count": 15,
   "id": "f3f05a63",
   "metadata": {},
   "outputs": [
    {
     "data": {
      "image/png": "[encoded data removed]",
      "text/plain": [
       "<Figure size 360x360 with 1 Axes>"
      ]
     },
     "metadata": {
      "needs_background": "light"
     },
     "output_type": "display_data"
    }
   ],
   "source": [
    "# Box plot of the character counts\n",
    "\n",
    "fig, ax = plt.subplots(figsize=(5, 5))\n",
    "plt.boxplot(data_1.char_count)\n",
    "plt.show()"
   ]
  },
  {
   "cell_type": "markdown",
   "id": "c9da6908",
   "metadata": {},
   "source": [
    "As we can see from above results of character count, there are numerous outliers. Although the tweets have a limit of 280 characters, we can see there are many tweets with higher character counts. It is time to clean the tweet text. The below function 'text_clean' is used to remove any hyperlinks, punctuation and numbers from tweet text."
   ]
  },
  {
   "cell_type": "code",
   "execution_count": 16,
   "id": "4b986643",
   "metadata": {},
   "outputs": [],
   "source": [
    "# Function to clean the text \n",
    "def text_clean(text) :\n",
    "    text = text.lower() \n",
    "    text = re.sub(r'http\\S+', '', text) \n",
    "    text = re.sub(r'([^a-zA-Z\\s]+?)', ' ', text) \n",
    "    text = re.sub(' +', ' ', text)\n",
    "    text_clean = ' '.join( [w for w in text.split() if len(w)>1] )\n",
    "    return text_clean"
   ]
  },
  {
   "cell_type": "code",
   "execution_count": 17,
   "id": "1cfe6dc9",
   "metadata": {},
   "outputs": [],
   "source": [
    "data_1['clean_text'] = data_1['text'].apply(text_clean)"
   ]
  },
  {
   "cell_type": "code",
   "execution_count": 18,
   "id": "64f4e06a",
   "metadata": {},
   "outputs": [
    {
     "data": {
      "text/html": [
       "<div>\n",
       "<style scoped>\n",
       "    .dataframe tbody tr th:only-of-type {\n",
       "        vertical-align: middle;\n",
       "    }\n",
       "\n",
       "    .dataframe tbody tr th {\n",
       "        vertical-align: top;\n",
       "    }\n",
       "\n",
       "    .dataframe thead th {\n",
       "        text-align: right;\n",
       "    }\n",
       "</style>\n",
       "<table border=\"1\" class=\"dataframe\">\n",
       "  <thead>\n",
       "    <tr style=\"text-align: right;\">\n",
       "      <th></th>\n",
       "      <th>tweetID</th>\n",
       "      <th>crDate</th>\n",
       "      <th>edInput</th>\n",
       "      <th>editor</th>\n",
       "      <th>engages</th>\n",
       "      <th>isApproved</th>\n",
       "      <th>isEdNeed</th>\n",
       "      <th>isRT</th>\n",
       "      <th>likes</th>\n",
       "      <th>retweets</th>\n",
       "      <th>rtUsID</th>\n",
       "      <th>text</th>\n",
       "      <th>topicName</th>\n",
       "      <th>usFlwrs</th>\n",
       "      <th>usID</th>\n",
       "      <th>usName</th>\n",
       "      <th>target</th>\n",
       "      <th>word_count</th>\n",
       "      <th>char_count</th>\n",
       "      <th>clean_text</th>\n",
       "    </tr>\n",
       "  </thead>\n",
       "  <tbody>\n",
       "    <tr>\n",
       "      <th>0</th>\n",
       "      <td>1070970722598707200</td>\n",
       "      <td>2018-12-07 09:18:12</td>\n",
       "      <td>1</td>\n",
       "      <td>5001</td>\n",
       "      <td>5137</td>\n",
       "      <td>True</td>\n",
       "      <td>True</td>\n",
       "      <td>False</td>\n",
       "      <td>4180</td>\n",
       "      <td>957</td>\n",
       "      <td>-1</td>\n",
       "      <td>Which one would you choose? 👀 https://t.co/U0s...</td>\n",
       "      <td>Fashion</td>\n",
       "      <td>37293</td>\n",
       "      <td>1061553474918342656</td>\n",
       "      <td>Gentleman’s style</td>\n",
       "      <td>0</td>\n",
       "      <td>7</td>\n",
       "      <td>53</td>\n",
       "      <td>which one would you choose</td>\n",
       "    </tr>\n",
       "    <tr>\n",
       "      <th>1</th>\n",
       "      <td>1070981773616648193</td>\n",
       "      <td>2018-12-07 10:02:07</td>\n",
       "      <td>1</td>\n",
       "      <td>5003</td>\n",
       "      <td>52650</td>\n",
       "      <td>True</td>\n",
       "      <td>True</td>\n",
       "      <td>True</td>\n",
       "      <td>36349</td>\n",
       "      <td>16301</td>\n",
       "      <td>781427301472874497</td>\n",
       "      <td>How it’s made. 😊 https://t.co/3XjOw4gIkg</td>\n",
       "      <td>Interesting</td>\n",
       "      <td>34897</td>\n",
       "      <td>994950431234080768</td>\n",
       "      <td>Satisfying Slime</td>\n",
       "      <td>0</td>\n",
       "      <td>5</td>\n",
       "      <td>40</td>\n",
       "      <td>how it made</td>\n",
       "    </tr>\n",
       "    <tr>\n",
       "      <th>2</th>\n",
       "      <td>916500037818916866</td>\n",
       "      <td>2017-10-07 03:06:51</td>\n",
       "      <td>2</td>\n",
       "      <td>5003</td>\n",
       "      <td>63872</td>\n",
       "      <td>False</td>\n",
       "      <td>True</td>\n",
       "      <td>True</td>\n",
       "      <td>39698</td>\n",
       "      <td>24174</td>\n",
       "      <td>821811651393495040</td>\n",
       "      <td>Smile, because it confuses people. Smile, beca...</td>\n",
       "      <td>Interesting</td>\n",
       "      <td>966840</td>\n",
       "      <td>482658470</td>\n",
       "      <td>Tips &amp; Tricks Ideas ✌</td>\n",
       "      <td>0</td>\n",
       "      <td>17</td>\n",
       "      <td>129</td>\n",
       "      <td>smile because it confuses people smile because...</td>\n",
       "    </tr>\n",
       "    <tr>\n",
       "      <th>3</th>\n",
       "      <td>1071135340696625152</td>\n",
       "      <td>2018-12-07 20:12:20</td>\n",
       "      <td>1</td>\n",
       "      <td>5001</td>\n",
       "      <td>1714</td>\n",
       "      <td>True</td>\n",
       "      <td>True</td>\n",
       "      <td>False</td>\n",
       "      <td>1261</td>\n",
       "      <td>453</td>\n",
       "      <td>-1</td>\n",
       "      <td>𝐶𝑙𝑎𝑢𝑑𝑒 𝑀𝑜𝑛𝑒𝑡 https://t.co/WdavWJcSyw</td>\n",
       "      <td>Art</td>\n",
       "      <td>33308</td>\n",
       "      <td>762649146</td>\n",
       "      <td>𝐴𝑟𝑡.</td>\n",
       "      <td>0</td>\n",
       "      <td>3</td>\n",
       "      <td>36</td>\n",
       "      <td></td>\n",
       "    </tr>\n",
       "    <tr>\n",
       "      <th>4</th>\n",
       "      <td>1071141175606829056</td>\n",
       "      <td>2018-12-07 20:35:31</td>\n",
       "      <td>1</td>\n",
       "      <td>5001</td>\n",
       "      <td>62062</td>\n",
       "      <td>True</td>\n",
       "      <td>True</td>\n",
       "      <td>False</td>\n",
       "      <td>49073</td>\n",
       "      <td>12989</td>\n",
       "      <td>-1</td>\n",
       "      <td>Baby Alpacas are so under appreciated. https:/...</td>\n",
       "      <td>Animal</td>\n",
       "      <td>1052924</td>\n",
       "      <td>2828212668</td>\n",
       "      <td>Nature is Amazing ☘️</td>\n",
       "      <td>0</td>\n",
       "      <td>7</td>\n",
       "      <td>62</td>\n",
       "      <td>baby alpacas are so under appreciated</td>\n",
       "    </tr>\n",
       "  </tbody>\n",
       "</table>\n",
       "</div>"
      ],
      "text/plain": [
       "               tweetID               crDate  edInput  editor  engages  \\\n",
       "0  1070970722598707200  2018-12-07 09:18:12        1    5001     5137   \n",
       "1  1070981773616648193  2018-12-07 10:02:07        1    5003    52650   \n",
       "2   916500037818916866  2017-10-07 03:06:51        2    5003    63872   \n",
       "3  1071135340696625152  2018-12-07 20:12:20        1    5001     1714   \n",
       "4  1071141175606829056  2018-12-07 20:35:31        1    5001    62062   \n",
       "\n",
       "   isApproved  isEdNeed   isRT  likes  retweets              rtUsID  \\\n",
       "0        True      True  False   4180       957                  -1   \n",
       "1        True      True   True  36349     16301  781427301472874497   \n",
       "2       False      True   True  39698     24174  821811651393495040   \n",
       "3        True      True  False   1261       453                  -1   \n",
       "4        True      True  False  49073     12989                  -1   \n",
       "\n",
       "                                                text    topicName  usFlwrs  \\\n",
       "0  Which one would you choose? 👀 https://t.co/U0s...      Fashion    37293   \n",
       "1           How it’s made. 😊 https://t.co/3XjOw4gIkg  Interesting    34897   \n",
       "2  Smile, because it confuses people. Smile, beca...  Interesting   966840   \n",
       "3               𝐶𝑙𝑎𝑢𝑑𝑒 𝑀𝑜𝑛𝑒𝑡 https://t.co/WdavWJcSyw          Art    33308   \n",
       "4  Baby Alpacas are so under appreciated. https:/...       Animal  1052924   \n",
       "\n",
       "                  usID                 usName  target  word_count  char_count  \\\n",
       "0  1061553474918342656      Gentleman’s style       0           7          53   \n",
       "1   994950431234080768       Satisfying Slime       0           5          40   \n",
       "2            482658470  Tips & Tricks Ideas ✌       0          17         129   \n",
       "3            762649146                   𝐴𝑟𝑡.       0           3          36   \n",
       "4           2828212668   Nature is Amazing ☘️       0           7          62   \n",
       "\n",
       "                                          clean_text  \n",
       "0                         which one would you choose  \n",
       "1                                        how it made  \n",
       "2  smile because it confuses people smile because...  \n",
       "3                                                     \n",
       "4              baby alpacas are so under appreciated  "
      ]
     },
     "execution_count": 18,
     "metadata": {},
     "output_type": "execute_result"
    }
   ],
   "source": [
    "data_1.head()"
   ]
  },
  {
   "cell_type": "markdown",
   "id": "04206c73",
   "metadata": {},
   "source": [
    "### Vectorization"
   ]
  },
  {
   "cell_type": "markdown",
   "id": "920afa68",
   "metadata": {},
   "source": [
    "After the initial cleaning of the text, we move on to the next step of converting this text data into a format that can fed to the Machine learning algorithms, this process is called vectorization. Before moving to vectorization, let's calculate the size of the vocabulary."
   ]
  },
  {
   "cell_type": "code",
   "execution_count": 20,
   "id": "0ef98c40",
   "metadata": {},
   "outputs": [],
   "source": [
    "vocab = []\n",
    "for doc in data_1.clean_text:\n",
    "    for word in doc.split():\n",
    "        if word not in vocab:\n",
    "            vocab.append(word)"
   ]
  },
  {
   "cell_type": "code",
   "execution_count": 22,
   "id": "70361ed8",
   "metadata": {
    "scrolled": true
   },
   "outputs": [
    {
     "name": "stdout",
     "output_type": "stream",
     "text": [
      "Size of Vocaubulary : 122777\n"
     ]
    }
   ],
   "source": [
    "print('Size of Vocabulary :', len(vocab))"
   ]
  },
  {
   "cell_type": "markdown",
   "id": "d831d124",
   "metadata": {},
   "source": [
    "The size of vocabulary (unique words) of the dataset is 122777. If we use bag of words for vectorization we will end up with a 322381 (no. of documents) x 122777 sparse matrix as shown below. This will increase computational cose and limiting the size of vocabulary results in loss of information. Hence for these reasons, TFIDF is implemented for vectorization."
   ]
  },
  {
   "cell_type": "markdown",
   "id": "1b0ade81",
   "metadata": {},
   "source": [
    "#### Count Vectorization"
   ]
  },
  {
   "cell_type": "code",
   "execution_count": 24,
   "id": "ce0a9413",
   "metadata": {},
   "outputs": [
    {
     "data": {
      "text/plain": [
       "<322318x122777 sparse matrix of type '<class 'numpy.int64'>'\n",
       "\twith 4817910 stored elements in Compressed Sparse Row format>"
      ]
     },
     "execution_count": 24,
     "metadata": {},
     "output_type": "execute_result"
    }
   ],
   "source": [
    "cvec = CountVectorizer()\n",
    "cvec.fit(data_1.clean_text)\n",
    "cvec.transform(data_1.clean_text)"
   ]
  },
  {
   "cell_type": "markdown",
   "id": "bc12c089",
   "metadata": {},
   "source": [
    "#### TFIDF vectorization"
   ]
  },
  {
   "cell_type": "code",
   "execution_count": 54,
   "id": "9fa1423b",
   "metadata": {},
   "outputs": [],
   "source": [
    "# Splitting data into train and test\n",
    "\n",
    "X = data_1['clean_text']\n",
    "y = data_1['target']\n",
    "\n",
    "X_train, X_test, y_train, y_test = train_test_split(X,y , test_size=0.2, stratify=y)"
   ]
  },
  {
   "cell_type": "code",
   "execution_count": 55,
   "id": "dc5d4ef6",
   "metadata": {},
   "outputs": [],
   "source": [
    "#Tf-Idf\n",
    "\n",
    "tfidf_vectorizer = TfidfVectorizer(use_idf=True)\n",
    "X_train_vectors_tfidf = tfidf_vectorizer.fit_transform(X_train) \n",
    "X_test_vectors_tfidf = tfidf_vectorizer.transform(X_test)"
   ]
  },
  {
   "cell_type": "markdown",
   "id": "784333a1",
   "metadata": {},
   "source": [
    "### Baseline model"
   ]
  },
  {
   "cell_type": "markdown",
   "id": "fb912b91",
   "metadata": {},
   "source": [
    "I have used Logistic Regression as the baseline model because of its simplicity, it is also linear and scalable to large data. Given the data is highly imbalanced 'accuracy' alone is not a good measure of performance. Hence other metrics such as precision, recall and confusion matrix are used to evaluate the model function."
   ]
  },
  {
   "cell_type": "code",
   "execution_count": 32,
   "id": "4dfa53ec",
   "metadata": {},
   "outputs": [],
   "source": [
    "# Function for logistic regression and performance metrics\n",
    "\n",
    "def log_reg (X_train_vec, y_train, X_test_vec, y_test):\n",
    "    lr_tfidf=LogisticRegression(solver = 'sag', penalty='l2')\n",
    "    lr_tfidf.fit(X_train_vec, y_train) \n",
    "\n",
    "    #Predict y value for test dataset\n",
    "    y_predict = lr_tfidf.predict(X_test_vec)\n",
    "    y_prob = lr_tfidf.predict_proba(X_test_vec)[:,1]\n",
    "\n",
    "    print(classification_report(y_test,y_predict))\n",
    "    print('Confusion Matrix:\\n',confusion_matrix(y_test, y_predict))\n",
    " \n",
    "    fpr, tpr, thresholds = roc_curve(y_test, y_prob)\n",
    "    roc_auc = auc(fpr, tpr)\n",
    "    print('\\nAUC:', roc_auc)"
   ]
  },
  {
   "cell_type": "code",
   "execution_count": 33,
   "id": "ed9aab52",
   "metadata": {
    "scrolled": true
   },
   "outputs": [
    {
     "name": "stdout",
     "output_type": "stream",
     "text": [
      "              precision    recall  f1-score   support\n",
      "\n",
      "           0       0.94      0.99      0.96     58459\n",
      "           1       0.74      0.33      0.46      6005\n",
      "\n",
      "    accuracy                           0.93     64464\n",
      "   macro avg       0.84      0.66      0.71     64464\n",
      "weighted avg       0.92      0.93      0.91     64464\n",
      "\n",
      "Confusion Matrix:\n",
      " [[57771   688]\n",
      " [ 4005  2000]]\n",
      "\n",
      "AUC: 0.9245317088448406\n"
     ]
    }
   ],
   "source": [
    "log_reg(X_train_vectors_tfidf, y_train, X_test_vectors_tfidf, y_test)"
   ]
  },
  {
   "cell_type": "markdown",
   "id": "a933f25a",
   "metadata": {},
   "source": [
    "The model predicts the majority class(0) with great accuracy, as expected but does not very well in predicting the minority class (1), as seen by the precision and recall scores for the minority class. "
   ]
  },
  {
   "cell_type": "markdown",
   "id": "073e3b57",
   "metadata": {},
   "source": [
    "### Factors affecting the model performance"
   ]
  },
  {
   "cell_type": "markdown",
   "id": "7f785d2b",
   "metadata": {},
   "source": [
    "The affect of different factors such as stopwords, n-grams, stemming and lemmatization on the performance of the base model is evaluated."
   ]
  },
  {
   "cell_type": "code",
   "execution_count": 63,
   "id": "847b80c5",
   "metadata": {},
   "outputs": [],
   "source": [
    "# Functions to caluculate accuracy wrt performance factors\n",
    "\n",
    "def accu_summ(pipeline, X_train, y_train, X_test, y_test):\n",
    "    accu_fit = pipeline.fit(X_train, y_train)\n",
    "    y_pred = accu_fit.predict(X_test)\n",
    "    accuracy = accuracy_score(y_test, y_pred)\n",
    "    #print(classification_report(y_test,y_pred))\n",
    "    return accuracy \n",
    "\n",
    "tfidf = TfidfVectorizer(use_idf=True)\n",
    "lr = LogisticRegression(solver = 'sag', penalty='l2', max_iter=1000)\n",
    "n_features = np.arange(10000,150000,10000)\n",
    "\n",
    "\n",
    "def nfeat_accu_finder(vectorizer=tfidf, n_features=n_features, stop_words=None, ngram_range=(1, 1), classifier=lr):\n",
    "    result = []\n",
    "    for n in n_features:\n",
    "        vectorizer.set_params(stop_words=stop_words, max_features=n, ngram_range=ngram_range)\n",
    "        finder_pipeline = Pipeline([('vectorizer', vectorizer),('classifier', classifier)])\n",
    "       # print(\"Performance metrics {} features\".format(n))\n",
    "        nfeature_accuracy = accu_summ(finder_pipeline, X_train, y_train, X_test, y_test)\n",
    "        result.append((n,nfeature_accuracy))\n",
    "    return result"
   ]
  },
  {
   "cell_type": "markdown",
   "id": "128c45d6",
   "metadata": {},
   "source": [
    "#### Stopwords"
   ]
  },
  {
   "cell_type": "markdown",
   "id": "4764753e",
   "metadata": {},
   "source": [
    "First we will look at how the inclusion and removal of stopwords affect the accuracy/performance of the model. "
   ]
  },
  {
   "cell_type": "code",
   "execution_count": 64,
   "id": "fe932644",
   "metadata": {},
   "outputs": [],
   "source": [
    "# Feature analysis with stopwords removal\n",
    "stpwrds = stopwords.words('english')\n",
    "feat_wosw = nfeat_accu_finder(stop_words=stpwrds)"
   ]
  },
  {
   "cell_type": "code",
   "execution_count": 65,
   "id": "c0b75816",
   "metadata": {},
   "outputs": [],
   "source": [
    "# Feature analysis with stopwords\n",
    "feat_wsw = nfeat_accu_finder()"
   ]
  },
  {
   "cell_type": "code",
   "execution_count": 66,
   "id": "dbc98ace",
   "metadata": {},
   "outputs": [
    {
     "data": {
      "image/png": "[encoded data removed]",
      "text/plain": [
       "<Figure size 576x432 with 1 Axes>"
      ]
     },
     "metadata": {
      "needs_background": "light"
     },
     "output_type": "display_data"
    }
   ],
   "source": [
    "nfeat_plot_wosw = pd.DataFrame(feat_wosw,columns=['nfeat','val_accu'])\n",
    "nfeat_plot_wsw = pd.DataFrame(feat_sw,columns=['nfeat','val_accu'])\n",
    "plt.figure(figsize=(8,6))\n",
    "plt.plot(nfeat_plot_wosw.nfeat, nfeat_plot_wosw.val_accu, label='without stop words')\n",
    "plt.plot(nfeat_plot_wsw.nfeat, nfeat_plot_wsw.val_accu,label='with stop words')\n",
    "plt.title(\"Without stop words VS With stop words : Accuracy\")\n",
    "plt.xlabel(\"Number of features\")\n",
    "plt.ylabel(\"Accuracy\")\n",
    "plt.legend();"
   ]
  },
  {
   "cell_type": "markdown",
   "id": "775e6c9d",
   "metadata": {},
   "source": [
    "The accuracy marginally improved when the stopwords are not removed."
   ]
  },
  {
   "cell_type": "markdown",
   "id": "247a518e",
   "metadata": {},
   "source": [
    "#### n-gram "
   ]
  },
  {
   "cell_type": "markdown",
   "id": "7fac67f6",
   "metadata": {},
   "source": [
    "In the previous section the analysis was performed with unigram, in this section the performance of the model is calculated for bigram and trigram."
   ]
  },
  {
   "cell_type": "code",
   "execution_count": 67,
   "id": "c7789032",
   "metadata": {},
   "outputs": [],
   "source": [
    "feat_bg = nfeat_accu_finder(ngram_range=(1, 2))"
   ]
  },
  {
   "cell_type": "code",
   "execution_count": 68,
   "id": "7940142d",
   "metadata": {},
   "outputs": [],
   "source": [
    "feat_tg = nfeat_accu_finder(ngram_range=(1, 3)) "
   ]
  },
  {
   "cell_type": "code",
   "execution_count": 75,
   "id": "f73bcc96",
   "metadata": {},
   "outputs": [
    {
     "data": {
      "image/png": "[encoded data removed]",
      "text/plain": [
       "<Figure size 864x720 with 1 Axes>"
      ]
     },
     "metadata": {
      "needs_background": "light"
     },
     "output_type": "display_data"
    }
   ],
   "source": [
    "nfeat_plot_tg = pd.DataFrame(feat_tg,columns=['nfeat','val_accu'])\n",
    "nfeat_plot_bg = pd.DataFrame(feat_bg,columns=['nfeat','val_accu'])\n",
    "nfeat_plot_ug = pd.DataFrame(feat_wsw,columns=['nfeat','val_accu'])\n",
    "plt.figure(figsize=(12,10))\n",
    "plt.plot(nfeat_plot_tg.nfeat, nfeat_plot_tg.val_accu,label='trigram')\n",
    "plt.plot(nfeat_plot_bg.nfeat, nfeat_plot_bg.val_accu,label='bigram')\n",
    "plt.plot(nfeat_plot_ug.nfeat, nfeat_plot_ug.val_accu, label='unigram')\n",
    "\n",
    "plt.title(\"N-gram (with softwords) test result : Accuracy\")\n",
    "plt.xlabel(\"Number of features\")\n",
    "plt.ylabel(\"Validation set accuracy\")\n",
    "plt.legend();"
   ]
  },
  {
   "cell_type": "markdown",
   "id": "562cbd7c",
   "metadata": {},
   "source": [
    "The bigram sequence of data for tfidf gives better accuracy compared to unigram and trigram"
   ]
  },
  {
   "cell_type": "markdown",
   "id": "6ebe174e",
   "metadata": {},
   "source": [
    "#### Stemming"
   ]
  },
  {
   "cell_type": "code",
   "execution_count": 70,
   "id": "eb844490",
   "metadata": {},
   "outputs": [],
   "source": [
    "stemmer = SnowballStemmer(\"english\")\n",
    "\n",
    "def stem(text):\n",
    "    words = text.split()\n",
    "    stems = [stemmer.stem(t) for t in words]\n",
    "    return \" \".join(stems)"
   ]
  },
  {
   "cell_type": "code",
   "execution_count": 71,
   "id": "bbc9835d",
   "metadata": {},
   "outputs": [],
   "source": [
    "data_1['text_stem'] = data_1.clean_text.apply(stem)"
   ]
  },
  {
   "cell_type": "code",
   "execution_count": 72,
   "id": "dc327be4",
   "metadata": {},
   "outputs": [],
   "source": [
    "X_stem, y_stem = data_1['text_stem'], data_1['target']\n",
    "X_train_stem, X_test_stem, y_train_stem, y_test_stem = train_test_split(X_stem, y_stem , test_size=0.2, stratify=y_stem)"
   ]
  },
  {
   "cell_type": "code",
   "execution_count": 73,
   "id": "65ca5c29",
   "metadata": {},
   "outputs": [],
   "source": [
    "stem_vect = TfidfVectorizer(use_idf=True)\n",
    "X_train_vec_stem = stem_vect.fit_transform(X_train_stem) \n",
    "X_test_vec_stem = stem_vect.transform(X_test_stem)"
   ]
  },
  {
   "cell_type": "code",
   "execution_count": 74,
   "id": "47bfcb63",
   "metadata": {
    "scrolled": true
   },
   "outputs": [
    {
     "name": "stdout",
     "output_type": "stream",
     "text": [
      "              precision    recall  f1-score   support\n",
      "\n",
      "           0       0.93      0.99      0.96     58459\n",
      "           1       0.73      0.33      0.45      6005\n",
      "\n",
      "    accuracy                           0.93     64464\n",
      "   macro avg       0.83      0.66      0.71     64464\n",
      "weighted avg       0.92      0.93      0.91     64464\n",
      "\n",
      "Confusion Matrix:\n",
      " [[57712   747]\n",
      " [ 4033  1972]]\n",
      "\n",
      "AUC: 0.9175413331167617\n"
     ]
    }
   ],
   "source": [
    "log_reg(X_train_vec_stem, y_train_stem, X_test_vec_stem, y_test_stem)"
   ]
  },
  {
   "cell_type": "markdown",
   "id": "d5c063da",
   "metadata": {},
   "source": [
    "There is no remarkable improvement in the performance metrics with stemming "
   ]
  },
  {
   "cell_type": "markdown",
   "id": "b1b30f1e",
   "metadata": {},
   "source": [
    "#### Lemmatization"
   ]
  },
  {
   "cell_type": "code",
   "execution_count": 76,
   "id": "576ff538",
   "metadata": {},
   "outputs": [],
   "source": [
    "wl = WordNetLemmatizer()\n",
    "\n",
    "# Function to map NTLK position tags\n",
    "def wordnet_pos(tag):\n",
    "    if tag.startswith('J'):\n",
    "        return wordnet.ADJ\n",
    "    elif tag.startswith('V'):\n",
    "        return wordnet.VERB\n",
    "    elif tag.startswith('N'):\n",
    "        return wordnet.NOUN\n",
    "    elif tag.startswith('R'):\n",
    "        return wordnet.ADV\n",
    "    else:\n",
    "        return wordnet.NOUN\n",
    "    \n",
    "def lemma(text):\n",
    "    words = text.split()\n",
    "    word_pos_tags = nltk.pos_tag(words) \n",
    "    a=[wl.lemmatize(tag[0], wordnet_pos(tag[1])) for idx, tag in enumerate(word_pos_tags)] \n",
    "    return \" \".join(a)"
   ]
  },
  {
   "cell_type": "code",
   "execution_count": 77,
   "id": "77c2221b",
   "metadata": {},
   "outputs": [],
   "source": [
    "data_1['text_lemm'] = data_1.clean_text.apply(lemma)"
   ]
  },
  {
   "cell_type": "code",
   "execution_count": 78,
   "id": "cc4c8868",
   "metadata": {},
   "outputs": [],
   "source": [
    "X_lem, y_lem = data_1['text_lemm'], data_1['target']\n",
    "X_train_lem, X_test_lem, y_train_lem, y_test_lem = train_test_split(X_lem,y_lem , test_size=0.2, stratify=y_lem)"
   ]
  },
  {
   "cell_type": "code",
   "execution_count": 79,
   "id": "68c81109",
   "metadata": {},
   "outputs": [],
   "source": [
    "lemm_vect = TfidfVectorizer(use_idf=True)\n",
    "X_train_vectors_lemm = lemm_vect.fit_transform(X_train_lem) \n",
    "X_test_vectors_lemm = lemm_vect.transform(X_test_lem)"
   ]
  },
  {
   "cell_type": "code",
   "execution_count": 80,
   "id": "11569570",
   "metadata": {},
   "outputs": [
    {
     "name": "stdout",
     "output_type": "stream",
     "text": [
      "              precision    recall  f1-score   support\n",
      "\n",
      "           0       0.93      0.99      0.96     58459\n",
      "           1       0.73      0.33      0.45      6005\n",
      "\n",
      "    accuracy                           0.93     64464\n",
      "   macro avg       0.83      0.66      0.71     64464\n",
      "weighted avg       0.92      0.93      0.91     64464\n",
      "\n",
      "Confusion Matrix:\n",
      " [[57727   732]\n",
      " [ 4043  1962]]\n",
      "\n",
      "AUC: 0.9213818251521497\n"
     ]
    }
   ],
   "source": [
    "log_reg(X_train_vectors_lemm, y_train_lem, X_test_vectors_lemm, y_test_lem)"
   ]
  },
  {
   "cell_type": "markdown",
   "id": "aeba7261",
   "metadata": {},
   "source": [
    "Lemmatization of the words of the data also does not improve the performance of the model compared to baseline model. "
   ]
  },
  {
   "cell_type": "markdown",
   "id": "78174ac2",
   "metadata": {},
   "source": [
    "### Sampling"
   ]
  },
  {
   "cell_type": "markdown",
   "id": "d7f51828",
   "metadata": {},
   "source": [
    "Sampling is appied to the input data to overcome the effects of the class imbalance. Two oversampling techniques, Randon oversampling and SMOTE oversampling are applied to the data. In the next step Random undersampling is applied. The results of all these techniques are compared using the performance metrics. "
   ]
  },
  {
   "cell_type": "code",
   "execution_count": 105,
   "id": "d577d568",
   "metadata": {},
   "outputs": [],
   "source": [
    "def sampling (X_train, y_train, X_test, y_test, pipeline):\n",
    "    \n",
    "    pipe_samp = pipeline.fit(X_train, y_train)\n",
    "   \n",
    "\n",
    "    #Predict y value for test dataset\n",
    "    y_predict =  pipe_samp.predict(X_test) \n",
    "    y_prob = pipe_samp.predict_proba(X_test)[:,1]\n",
    "\n",
    "    print(classification_report(y_test,y_predict))\n",
    "    print('Confusion Matrix:\\n',confusion_matrix(y_test, y_predict))\n",
    " \n",
    "    fpr, tpr, thresholds = roc_curve(y_test, y_prob)\n",
    "    roc_auc = auc(fpr, tpr)\n",
    "    print('\\nAUC:', roc_auc)"
   ]
  },
  {
   "cell_type": "code",
   "execution_count": 87,
   "id": "14de3482",
   "metadata": {},
   "outputs": [],
   "source": [
    "X_samp, y_samp = data_1['text_lemm'], data_1['target']\n",
    "X_train_samp, X_test_samp, y_train_samp, y_test_samp = train_test_split(X_lem,y_lem , test_size=0.2, stratify=y_samp)"
   ]
  },
  {
   "cell_type": "code",
   "execution_count": 88,
   "id": "393b971b",
   "metadata": {},
   "outputs": [],
   "source": [
    "tfidf_samp= TfidfVectorizer(use_idf=True)"
   ]
  },
  {
   "cell_type": "code",
   "execution_count": 89,
   "id": "bfde136d",
   "metadata": {},
   "outputs": [],
   "source": [
    "lr_samp=LogisticRegression(solver = 'sag', C=10, penalty='l2')"
   ]
  },
  {
   "cell_type": "markdown",
   "id": "73b23e23",
   "metadata": {},
   "source": [
    "#### Oversampling"
   ]
  },
  {
   "cell_type": "code",
   "execution_count": 103,
   "id": "952ae06a",
   "metadata": {},
   "outputs": [],
   "source": [
    "# Random Over Sampling pipeline\n",
    "ROS_pipeline = make_pipeline(tfidf_samp, RandomOverSampler(random_state=777),lr_samp)\n",
    "\n",
    "# Synthetic Minority Oversampling Technique (SMOTE) Over Sampling pipeline\n",
    "SMOTE_pipeline = make_pipeline(tfidf_samp, SMOTE(random_state=777), lr_samp)"
   ]
  },
  {
   "cell_type": "code",
   "execution_count": 107,
   "id": "9d1c003a",
   "metadata": {},
   "outputs": [
    {
     "name": "stdout",
     "output_type": "stream",
     "text": [
      "              precision    recall  f1-score   support\n",
      "\n",
      "           0       0.98      0.90      0.93     58459\n",
      "           1       0.43      0.78      0.56      6005\n",
      "\n",
      "    accuracy                           0.88     64464\n",
      "   macro avg       0.70      0.84      0.75     64464\n",
      "weighted avg       0.92      0.88      0.90     64464\n",
      "\n",
      "Confusion Matrix:\n",
      " [[52322  6137]\n",
      " [ 1314  4691]]\n",
      "\n",
      "AUC: 0.9216439045454105\n"
     ]
    }
   ],
   "source": [
    "sampling(X_train_samp, y_train_samp, X_test_samp, y_test_samp, ROS_pipeline)"
   ]
  },
  {
   "cell_type": "code",
   "execution_count": 100,
   "id": "d19c774d",
   "metadata": {},
   "outputs": [
    {
     "name": "stdout",
     "output_type": "stream",
     "text": [
      "              precision    recall  f1-score   support\n",
      "\n",
      "           0       0.97      0.90      0.94     58459\n",
      "           1       0.44      0.76      0.56      6005\n",
      "\n",
      "    accuracy                           0.89     64464\n",
      "   macro avg       0.71      0.83      0.75     64464\n",
      "weighted avg       0.92      0.89      0.90     64464\n",
      "\n",
      "Confusion Matrix:\n",
      " [[52715  5744]\n",
      " [ 1413  4592]]\n",
      "\n",
      "AUC: 0.9196222680544172\n"
     ]
    }
   ],
   "source": [
    "#SMOTE Oversampling\n",
    "sampling(X_train_samp, y_train_samp, X_test_samp, y_test_samp, SMOTE_pipeline)"
   ]
  },
  {
   "cell_type": "markdown",
   "id": "9e8ff664",
   "metadata": {},
   "source": [
    "#### Undersampling"
   ]
  },
  {
   "cell_type": "code",
   "execution_count": 101,
   "id": "2945a795",
   "metadata": {},
   "outputs": [],
   "source": [
    "# Random Under Sampling pipeline\n",
    "RUS_pipeline = make_pipeline(tfidf_samp, RandomUnderSampler(random_state=777),lr_samp)"
   ]
  },
  {
   "cell_type": "code",
   "execution_count": 102,
   "id": "3c5fa627",
   "metadata": {},
   "outputs": [
    {
     "name": "stdout",
     "output_type": "stream",
     "text": [
      "              precision    recall  f1-score   support\n",
      "\n",
      "           0       0.98      0.83      0.90     58459\n",
      "           1       0.34      0.85      0.49      6005\n",
      "\n",
      "    accuracy                           0.83     64464\n",
      "   macro avg       0.66      0.84      0.70     64464\n",
      "weighted avg       0.92      0.83      0.86     64464\n",
      "\n",
      "Confusion Matrix:\n",
      " [[48714  9745]\n",
      " [  912  5093]]\n",
      "\n",
      "AUC: 0.9149105533217492\n"
     ]
    }
   ],
   "source": [
    "sampling(X_train_samp, y_train_samp, X_test_samp, y_test_samp, RUS_pipeline)"
   ]
  },
  {
   "cell_type": "markdown",
   "id": "f2dd78a4",
   "metadata": {},
   "source": [
    "Sampling (both over and under) flipped the results from baseline model for hte minority class. Without any sampling, for baseline model we have high precision and low recall. With sampling, we have high recall but low precision. The model is trained to predict more positive results but they are not true positives. Although recall and precision numbers for all the three results are similar, SMOTE sampling gives the highest accuracy. Due to this reason, SMOTE sampling is chosen for the analysis."
   ]
  },
  {
   "cell_type": "markdown",
   "id": "7b6784cf",
   "metadata": {},
   "source": [
    "### Modeling"
   ]
  },
  {
   "cell_type": "markdown",
   "id": "221b9a8c",
   "metadata": {},
   "source": [
    "Apart from the logistic regression as baseline classifier, two other classifiers, Random forest classifier and Extreme gradient boosting classifiers are applied in the next section. The performance of these models is evaluated on the sampled data and results are compared. "
   ]
  },
  {
   "cell_type": "markdown",
   "id": "d8f6e245",
   "metadata": {},
   "source": [
    "#### Sampling - SMOTE"
   ]
  },
  {
   "cell_type": "code",
   "execution_count": 108,
   "id": "ce379973",
   "metadata": {},
   "outputs": [
    {
     "name": "stdout",
     "output_type": "stream",
     "text": [
      "(467670, 110856) (467670,)\n",
      "(116918, 110856) (116918,)\n"
     ]
    }
   ],
   "source": [
    "smote = SMOTE()\n",
    "X_train_smote, y_train_smote = smote.fit_resample(X_train_vectors_tfidf, y_train)\n",
    "print(X_train_smote.shape, y_train_smote.shape)\n",
    "\n",
    "smote = SMOTE()\n",
    "X_test_smote, y_test_smote = smote.fit_resample(X_test_vectors_tfidf, y_test)\n",
    "print(X_test_smote.shape, y_test_smote.shape)\n"
   ]
  },
  {
   "cell_type": "code",
   "execution_count": 109,
   "id": "1a9ec040",
   "metadata": {},
   "outputs": [
    {
     "data": {
      "image/png": "[encoded data removed]",
      "text/plain": [
       "<Figure size 864x504 with 1 Axes>"
      ]
     },
     "metadata": {
      "needs_background": "light"
     },
     "output_type": "display_data"
    }
   ],
   "source": [
    "# Plotting the sampled data\n",
    "tar_smote = pd.value_counts(y_train_smote)\n",
    "plt.figure(figsize = (12, 7))\n",
    "plt.title('Value counts of target variable with SMOTE ')\n",
    "sns.barplot(x=tar_smote.index, y=tar_smote)\n",
    "plt.xticks(rotation=90);"
   ]
  },
  {
   "cell_type": "markdown",
   "id": "aa9e8b55",
   "metadata": {},
   "source": [
    "#### Random Forest Classifier"
   ]
  },
  {
   "cell_type": "code",
   "execution_count": 110,
   "id": "20cbee35",
   "metadata": {},
   "outputs": [],
   "source": [
    "rfc = RandomForestClassifier()"
   ]
  },
  {
   "cell_type": "code",
   "execution_count": 112,
   "id": "2dd459a4",
   "metadata": {},
   "outputs": [
    {
     "data": {
      "text/plain": [
       "RandomForestClassifier()"
      ]
     },
     "execution_count": 112,
     "metadata": {},
     "output_type": "execute_result"
    }
   ],
   "source": [
    "rfc.fit(X_train_smote, y_train_smote)"
   ]
  },
  {
   "cell_type": "code",
   "execution_count": 113,
   "id": "34c5dca7",
   "metadata": {},
   "outputs": [
    {
     "name": "stdout",
     "output_type": "stream",
     "text": [
      "              precision    recall  f1-score   support\n",
      "\n",
      "           0       0.84      0.98      0.90     58459\n",
      "           1       0.97      0.81      0.88     58459\n",
      "\n",
      "    accuracy                           0.89    116918\n",
      "   macro avg       0.91      0.89      0.89    116918\n",
      "weighted avg       0.91      0.89      0.89    116918\n",
      "\n",
      "Confusion Matrix:\n",
      " [[57194  1265]\n",
      " [11166 47293]]\n",
      "\n",
      "AUC: 0.978580076304456\n"
     ]
    }
   ],
   "source": [
    "rfc_predict = rfc.predict(X_test_smote)\n",
    "y_prob_smote = rfc.predict_proba(X_test_smote)[:,1]\n",
    "\n",
    "\n",
    "print(classification_report(y_test_smote,rfc_predict))\n",
    "print('Confusion Matrix:\\n',confusion_matrix(y_test_smote, rfc_predict))\n",
    " \n",
    "fpr, tpr, thresholds = roc_curve(y_test_smote, y_prob_smote)\n",
    "roc_auc = auc(fpr, tpr)\n",
    "print('\\nAUC:', roc_auc)"
   ]
  },
  {
   "cell_type": "markdown",
   "id": "cfbec893",
   "metadata": {},
   "source": [
    "#### Extreme Gradient Boosting Classifier "
   ]
  },
  {
   "cell_type": "code",
   "execution_count": 114,
   "id": "6315c518",
   "metadata": {},
   "outputs": [
    {
     "data": {
      "text/plain": [
       "XGBClassifier(base_score=None, booster=None, callbacks=None,\n",
       "              colsample_bylevel=None, colsample_bynode=None,\n",
       "              colsample_bytree=None, early_stopping_rounds=None,\n",
       "              enable_categorical=False, eval_metric='logloss',\n",
       "              feature_types=None, gamma=None, gpu_id=None, grow_policy=None,\n",
       "              importance_type=None, interaction_constraints=None,\n",
       "              learning_rate=None, max_bin=None, max_cat_threshold=None,\n",
       "              max_cat_to_onehot=None, max_delta_step=None, max_depth=None,\n",
       "              max_leaves=None, min_child_weight=None, missing=nan,\n",
       "              monotone_constraints=None, n_estimators=100, n_jobs=None,\n",
       "              num_parallel_tree=None, predictor=None, random_state=None, ...)"
      ]
     },
     "execution_count": 114,
     "metadata": {},
     "output_type": "execute_result"
    }
   ],
   "source": [
    "xgboost = xgb.XGBClassifier(objective='binary:logistic', eval_metric='logloss')\n",
    "xgboost.fit(X_train_smote, y_train_smote)"
   ]
  },
  {
   "cell_type": "code",
   "execution_count": 116,
   "id": "d6834963",
   "metadata": {},
   "outputs": [
    {
     "name": "stdout",
     "output_type": "stream",
     "text": [
      "              precision    recall  f1-score   support\n",
      "\n",
      "           0       0.87      0.97      0.92     58459\n",
      "           1       0.97      0.85      0.91     58459\n",
      "\n",
      "    accuracy                           0.91    116918\n",
      "   macro avg       0.92      0.91      0.91    116918\n",
      "weighted avg       0.92      0.91      0.91    116918\n",
      "\n",
      "Confusion Matrix:\n",
      " [[56904  1555]\n",
      " [ 8530 49929]]\n",
      "\n",
      "AUC: 0.9730031201253551\n"
     ]
    }
   ],
   "source": [
    "xgb_predict = xgboost.predict(X_test_smote)\n",
    "y_xgb_prob_smote = xgboost.predict_proba(X_test_smote)[:,1]\n",
    "\n",
    "\n",
    "print(classification_report(y_test_smote,xgb_predict))\n",
    "print('Confusion Matrix:\\n',confusion_matrix(y_test_smote, xgb_predict))\n",
    " \n",
    "fpr, tpr, thresholds = roc_curve(y_test_smote, y_xgb_prob_smote)\n",
    "roc_auc = auc(fpr, tpr)\n",
    "print('\\nAUC:', roc_auc)"
   ]
  },
  {
   "cell_type": "markdown",
   "id": "382f99f4",
   "metadata": {},
   "source": [
    "There is a remarkable improvement in the recall and precision with both random forest and xgboost models compared to baseline model. However, xgboost model has higher recall and accuracy compared to random forest. Moreover, xgboost is computationally much faster than random forest. Because of these reasons, xgboost is chosen over random forest. "
   ]
  },
  {
   "cell_type": "markdown",
   "id": "6fb4868e",
   "metadata": {},
   "source": [
    "### Hyperparameter tuning"
   ]
  },
  {
   "cell_type": "markdown",
   "id": "c4f0162a",
   "metadata": {},
   "source": [
    "Given the complexity of xgboost and the size of the data, hyperparameter tuning of xgboost using GridsearchCV was running into multiple hours. For this reason, Randomized search CV is used for hyperparameter tuning."
   ]
  },
  {
   "cell_type": "code",
   "execution_count": 118,
   "id": "785b4680",
   "metadata": {},
   "outputs": [],
   "source": [
    "X_train, X_test, y_train, y_test = train_test_split(X,y , test_size=0.2, stratify=y) "
   ]
  },
  {
   "cell_type": "code",
   "execution_count": 119,
   "id": "2172e34c",
   "metadata": {},
   "outputs": [],
   "source": [
    "X_train_vectors_tfidf = tfidf_vectorizer.fit_transform(X_train) \n",
    "X_test_vectors_tfidf = tfidf_vectorizer.transform(X_test)"
   ]
  },
  {
   "cell_type": "code",
   "execution_count": 120,
   "id": "b44b9001",
   "metadata": {
    "scrolled": true
   },
   "outputs": [],
   "source": [
    "# SMOTE for the training data\n",
    "X_train_smote, y_train_smote = smote.fit_resample(X_train_vectors_tfidf, y_train)"
   ]
  },
  {
   "cell_type": "code",
   "execution_count": 121,
   "id": "7d035516",
   "metadata": {},
   "outputs": [],
   "source": [
    "# SMOTE for the testing data\n",
    "X_test_smote, y_test_smote = smote.fit_resample(X_test_vectors_tfidf, y_test)"
   ]
  },
  {
   "cell_type": "code",
   "execution_count": 123,
   "id": "5cdb8850",
   "metadata": {},
   "outputs": [],
   "source": [
    "classifier = xgb.XGBClassifier()"
   ]
  },
  {
   "cell_type": "code",
   "execution_count": 127,
   "id": "99e29a6e",
   "metadata": {},
   "outputs": [],
   "source": [
    "params = { 'learning_rate' : [0.05,0.10,0.15,0.20,0.25,0.30], 'max_depth' : [ 3, 4, 5, 6, 8, 10, 12, 15],\n",
    " 'min_child_weight' : [ 1, 3, 5, 7 ], 'gamma': [ 0.0, 0.1, 0.2 , 0.3, 0.4 ],'colsample_bytree' : [ 0.3, 0.4, 0.5 , 0.7 ]\n",
    "}"
   ]
  },
  {
   "cell_type": "code",
   "execution_count": 128,
   "id": "033edbd8",
   "metadata": {},
   "outputs": [],
   "source": [
    "rs_model=RandomizedSearchCV(classifier,param_distributions=params,\n",
    "                            n_iter=5,scoring='accuracy',n_jobs=-1,cv=5,verbose=3)"
   ]
  },
  {
   "cell_type": "code",
   "execution_count": 129,
   "id": "3d29777e",
   "metadata": {},
   "outputs": [
    {
     "name": "stdout",
     "output_type": "stream",
     "text": [
      "Fitting 5 folds for each of 5 candidates, totalling 25 fits\n"
     ]
    },
    {
     "data": {
      "text/plain": [
       "RandomizedSearchCV(cv=5,\n",
       "                   estimator=XGBClassifier(base_score=None, booster=None,\n",
       "                                           callbacks=None,\n",
       "                                           colsample_bylevel=None,\n",
       "                                           colsample_bynode=None,\n",
       "                                           colsample_bytree=None,\n",
       "                                           early_stopping_rounds=None,\n",
       "                                           enable_categorical=False,\n",
       "                                           eval_metric=None, feature_types=None,\n",
       "                                           gamma=None, gpu_id=None,\n",
       "                                           grow_policy=None,\n",
       "                                           importance_type=None,\n",
       "                                           interaction_constraints=None,\n",
       "                                           learning_rate...\n",
       "                                           monotone_constraints=None,\n",
       "                                           n_estimators=100, n_jobs=None,\n",
       "                                           num_parallel_tree=None,\n",
       "                                           predictor=None, random_state=None, ...),\n",
       "                   n_iter=5, n_jobs=-1,\n",
       "                   param_distributions={'colsample_bytree': [0.3, 0.4, 0.5,\n",
       "                                                             0.7],\n",
       "                                        'gamma': [0.0, 0.1, 0.2, 0.3, 0.4],\n",
       "                                        'learning_rate': [0.05, 0.1, 0.15, 0.2,\n",
       "                                                          0.25, 0.3],\n",
       "                                        'max_depth': [3, 4, 5, 6, 8, 10, 12,\n",
       "                                                      15],\n",
       "                                        'min_child_weight': [1, 3, 5, 7]},\n",
       "                   scoring='accuracy', verbose=3)"
      ]
     },
     "execution_count": 129,
     "metadata": {},
     "output_type": "execute_result"
    },
    {
     "name": "stdout",
     "output_type": "stream",
     "text": [
      "[CV 1/5] END colsample_bytree=0.3, gamma=0.0, learning_rate=0.1, max_depth=12, min_child_weight=3;, score=0.736 total time= 3.6min\n",
      "[CV 1/5] END colsample_bytree=0.4, gamma=0.4, learning_rate=0.25, max_depth=12, min_child_weight=5;, score=0.759 total time= 4.7min\n",
      "[CV 4/5] END colsample_bytree=0.4, gamma=0.1, learning_rate=0.1, max_depth=8, min_child_weight=1;, score=0.924 total time= 3.5min\n",
      "[CV 3/5] END colsample_bytree=0.7, gamma=0.4, learning_rate=0.3, max_depth=3, min_child_weight=5;, score=0.918 total time= 1.6min\n",
      "[CV 2/5] END colsample_bytree=0.3, gamma=0.0, learning_rate=0.1, max_depth=12, min_child_weight=3;, score=0.934 total time= 3.5min\n",
      "[CV 4/5] END colsample_bytree=0.3, gamma=0.0, learning_rate=0.1, max_depth=12, min_child_weight=3;, score=0.937 total time= 3.7min\n",
      "[CV 3/5] END colsample_bytree=0.4, gamma=0.4, learning_rate=0.25, max_depth=12, min_child_weight=5;, score=0.953 total time= 4.6min\n",
      "[CV 5/5] END colsample_bytree=0.7, gamma=0.4, learning_rate=0.3, max_depth=3, min_child_weight=5;, score=0.919 total time= 1.6min\n",
      "[CV 1/5] END colsample_bytree=0.7, gamma=0.1, learning_rate=0.3, max_depth=12, min_child_weight=5;, score=0.764 total time= 7.5min\n",
      "[CV 3/5] END colsample_bytree=0.4, gamma=0.1, learning_rate=0.1, max_depth=8, min_child_weight=1;, score=0.923 total time= 3.5min\n",
      "[CV 2/5] END colsample_bytree=0.7, gamma=0.4, learning_rate=0.3, max_depth=3, min_child_weight=5;, score=0.916 total time= 1.9min\n",
      "[CV 3/5] END colsample_bytree=0.3, gamma=0.0, learning_rate=0.1, max_depth=12, min_child_weight=3;, score=0.937 total time= 3.5min\n",
      "[CV 5/5] END colsample_bytree=0.3, gamma=0.0, learning_rate=0.1, max_depth=12, min_child_weight=3;, score=0.937 total time= 3.7min\n",
      "[CV 2/5] END colsample_bytree=0.4, gamma=0.4, learning_rate=0.25, max_depth=12, min_child_weight=5;, score=0.952 total time= 4.6min\n",
      "[CV 4/5] END colsample_bytree=0.7, gamma=0.4, learning_rate=0.3, max_depth=3, min_child_weight=5;, score=0.919 total time= 1.6min\n",
      "[CV 3/5] END colsample_bytree=0.7, gamma=0.1, learning_rate=0.3, max_depth=12, min_child_weight=5;, score=0.957 total time= 7.4min\n",
      "[CV 2/5] END colsample_bytree=0.4, gamma=0.1, learning_rate=0.1, max_depth=8, min_child_weight=1;, score=0.922 total time= 3.5min\n",
      "[CV 5/5] END colsample_bytree=0.4, gamma=0.1, learning_rate=0.1, max_depth=8, min_child_weight=1;, score=0.923 total time= 2.8min\n",
      "[CV 2/5] END colsample_bytree=0.7, gamma=0.1, learning_rate=0.3, max_depth=12, min_child_weight=5;, score=0.955 total time= 7.4min\n",
      "[CV 1/5] END colsample_bytree=0.4, gamma=0.1, learning_rate=0.1, max_depth=8, min_child_weight=1;, score=0.725 total time= 3.6min\n",
      "[CV 1/5] END colsample_bytree=0.7, gamma=0.4, learning_rate=0.3, max_depth=3, min_child_weight=5;, score=0.725 total time= 2.0min\n",
      "[CV 5/5] END colsample_bytree=0.7, gamma=0.1, learning_rate=0.3, max_depth=12, min_child_weight=5;, score=0.957 total time= 7.4min\n",
      "[CV 5/5] END colsample_bytree=0.4, gamma=0.4, learning_rate=0.25, max_depth=12, min_child_weight=5;, score=0.953 total time= 4.6min\n",
      "[CV 4/5] END colsample_bytree=0.7, gamma=0.1, learning_rate=0.3, max_depth=12, min_child_weight=5;, score=0.958 total time= 7.4min\n",
      "[CV 4/5] END colsample_bytree=0.4, gamma=0.4, learning_rate=0.25, max_depth=12, min_child_weight=5;, score=0.954 total time= 4.6min\n"
     ]
    }
   ],
   "source": [
    "rs_model.fit(X_train_smote,y_train_smote)"
   ]
  },
  {
   "cell_type": "code",
   "execution_count": 130,
   "id": "d1f534e9",
   "metadata": {},
   "outputs": [
    {
     "data": {
      "text/plain": [
       "XGBClassifier(base_score=None, booster=None, callbacks=None,\n",
       "              colsample_bylevel=None, colsample_bynode=None,\n",
       "              colsample_bytree=0.7, early_stopping_rounds=None,\n",
       "              enable_categorical=False, eval_metric=None, feature_types=None,\n",
       "              gamma=0.1, gpu_id=None, grow_policy=None, importance_type=None,\n",
       "              interaction_constraints=None, learning_rate=0.3, max_bin=None,\n",
       "              max_cat_threshold=None, max_cat_to_onehot=None,\n",
       "              max_delta_step=None, max_depth=12, max_leaves=None,\n",
       "              min_child_weight=5, missing=nan, monotone_constraints=None,\n",
       "              n_estimators=100, n_jobs=None, num_parallel_tree=None,\n",
       "              predictor=None, random_state=None, ...)"
      ]
     },
     "execution_count": 130,
     "metadata": {},
     "output_type": "execute_result"
    }
   ],
   "source": [
    "rs_model.best_estimator_"
   ]
  },
  {
   "cell_type": "code",
   "execution_count": 133,
   "id": "485afd84",
   "metadata": {},
   "outputs": [],
   "source": [
    "rs_predict = rs_model.predict(X_test_smote)\n",
    "y_rs_prob = rs_model.predict_proba(X_test_smote)[:,1]"
   ]
  },
  {
   "cell_type": "code",
   "execution_count": 135,
   "id": "f21f46ca",
   "metadata": {},
   "outputs": [
    {
     "name": "stdout",
     "output_type": "stream",
     "text": [
      "              precision    recall  f1-score   support\n",
      "\n",
      "           0       0.89      0.98      0.93     58459\n",
      "           1       0.97      0.88      0.92     58459\n",
      "\n",
      "    accuracy                           0.93    116918\n",
      "   macro avg       0.93      0.93      0.93    116918\n",
      "weighted avg       0.93      0.93      0.93    116918\n",
      "\n",
      "Confusion Matrix:\n",
      " [[57011  1448]\n",
      " [ 7113 51346]]\n",
      "\n",
      "AUC: 0.9340624192464602\n"
     ]
    }
   ],
   "source": [
    "print(classification_report(y_test_smote,rs_predict))\n",
    "print('Confusion Matrix:\\n',confusion_matrix(y_test_smote, rs_predict))\n",
    " \n",
    "fpr, tpr, thresholds = roc_curve(y_test_smote, y_xgb_prob_smote)\n",
    "roc_auc = auc(fpr, tpr)\n",
    "print('\\nAUC:', roc_auc)"
   ]
  },
  {
   "cell_type": "markdown",
   "id": "59b8ca51",
   "metadata": {},
   "source": [
    "Hyperparameter tuning utilizing Randomized search CV yields improvement both in terms of recall and accuracy of the xgboost classifier."
   ]
  },
  {
   "cell_type": "markdown",
   "id": "04734534",
   "metadata": {},
   "source": [
    "### Conclusions"
   ]
  },
  {
   "cell_type": "markdown",
   "id": "fbfe3465",
   "metadata": {},
   "source": [
    "A working classification model is developed to classify twitter data into 'Business' and 'Non-business' categories. The tweets data is cleaned and the affect of factors such as, stopwords, stemming and lemmatization are studied using logistic regression as a baseline classifier. As the data was heavily imbalanced various techniques such as random oversampling, SMOTE oversampling and random undersampling to overcome the imbalance. The performance of the baseline classifier is compared for all the sampling techniques. Based on the results it is deduced that SMOTE is the best sampling choice. Apart from the accuracy score, precision, recall, confusion matrix and AUC are used as metrics to evaluate the models. More robust models such as Random forest classifier and Extreme gradient boosting classifier models are built for classifying the twitter data. Owing to the oversampling of data and to the ensembling nature of these models, there was a remarkable improvement in the recall and precision metrics for both the models. However, in terms of computational speed, xgboost was much faster compared to random forest classifier without compromising the performance. Hence xgboost is chosen as the best of the two models for classifying hte twitter data. The model parameters are further enhanced using randomized seatch CV for hyperparameter tuning. This further improved the performance of the model. "
   ]
  }
 ],
 "metadata": {
  "kernelspec": {
   "display_name": "Python 3 (ipykernel)",
   "language": "python",
   "name": "python3"
  },
  "language_info": {
   "codemirror_mode": {
    "name": "ipython",
    "version": 3
   },
   "file_extension": ".py",
   "mimetype": "text/x-python",
   "name": "python",
   "nbconvert_exporter": "python",
   "pygments_lexer": "ipython3",
   "version": "3.9.12"
  }
 },
 "nbformat": 4,
 "nbformat_minor": 5
}
